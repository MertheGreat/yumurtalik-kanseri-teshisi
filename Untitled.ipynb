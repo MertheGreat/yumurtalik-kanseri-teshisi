{
 "cells": [
  {
   "cell_type": "code",
   "execution_count": 1,
   "id": "c506c411",
   "metadata": {},
   "outputs": [
    {
     "name": "stderr",
     "output_type": "stream",
     "text": [
      "2022-07-26 10:33:34.580610: W tensorflow/stream_executor/platform/default/dso_loader.cc:64] Could not load dynamic library 'libcudart.so.11.0'; dlerror: libcudart.so.11.0: cannot open shared object file: No such file or directory\n",
      "2022-07-26 10:33:34.580651: I tensorflow/stream_executor/cuda/cudart_stub.cc:29] Ignore above cudart dlerror if you do not have a GPU set up on your machine.\n"
     ]
    }
   ],
   "source": [
    "import pandas as pd\n",
    "import numpy as np\n",
    "import matplotlib.pyplot as plt\n",
    "import seaborn as sbn\n",
    "from sklearn.preprocessing import MinMaxScaler\n",
    "from sklearn.model_selection import train_test_split\n",
    "import tensorflow as tf\n",
    "from tensorflow.keras.models import Sequential\n",
    "from tensorflow.keras.layers import Dense, Activation, Dropout\n",
    "from tensorflow.keras.callbacks import EarlyStopping\n",
    "from sklearn.neighbors import KNeighborsClassifier\n",
    "from sklearn.metrics import classification_report, confusion_matrix,  accuracy_score"
   ]
  },
  {
   "cell_type": "code",
   "execution_count": 2,
   "id": "833e48ea",
   "metadata": {},
   "outputs": [],
   "source": [
    "%matplotlib inline"
   ]
  },
  {
   "cell_type": "code",
   "execution_count": 3,
   "id": "32738a39",
   "metadata": {},
   "outputs": [
    {
     "data": {
      "text/html": [
       "<div>\n",
       "<style scoped>\n",
       "    .dataframe tbody tr th:only-of-type {\n",
       "        vertical-align: middle;\n",
       "    }\n",
       "\n",
       "    .dataframe tbody tr th {\n",
       "        vertical-align: top;\n",
       "    }\n",
       "\n",
       "    .dataframe thead th {\n",
       "        text-align: right;\n",
       "    }\n",
       "</style>\n",
       "<table border=\"1\" class=\"dataframe\">\n",
       "  <thead>\n",
       "    <tr style=\"text-align: right;\">\n",
       "      <th></th>\n",
       "      <th>SUBJECT_ID</th>\n",
       "      <th>AFP</th>\n",
       "      <th>AG</th>\n",
       "      <th>Age</th>\n",
       "      <th>ALB</th>\n",
       "      <th>ALP</th>\n",
       "      <th>ALT</th>\n",
       "      <th>AST</th>\n",
       "      <th>BASO#</th>\n",
       "      <th>BASO%</th>\n",
       "      <th>...</th>\n",
       "      <th>NEU</th>\n",
       "      <th>PCT</th>\n",
       "      <th>PDW</th>\n",
       "      <th>PHOS</th>\n",
       "      <th>PLT</th>\n",
       "      <th>RBC</th>\n",
       "      <th>RDW</th>\n",
       "      <th>TBIL</th>\n",
       "      <th>TP</th>\n",
       "      <th>UA</th>\n",
       "    </tr>\n",
       "  </thead>\n",
       "  <tbody>\n",
       "    <tr>\n",
       "      <th>0</th>\n",
       "      <td>1</td>\n",
       "      <td>3.58</td>\n",
       "      <td>19.36</td>\n",
       "      <td>47</td>\n",
       "      <td>45.4</td>\n",
       "      <td>56.0</td>\n",
       "      <td>11.0</td>\n",
       "      <td>24.0</td>\n",
       "      <td>0.01</td>\n",
       "      <td>0.30</td>\n",
       "      <td>...</td>\n",
       "      <td>76.2</td>\n",
       "      <td>0.09</td>\n",
       "      <td>13.4</td>\n",
       "      <td>1.46</td>\n",
       "      <td>74</td>\n",
       "      <td>2.64</td>\n",
       "      <td>13.7</td>\n",
       "      <td>5.5</td>\n",
       "      <td>73.9</td>\n",
       "      <td>396.4</td>\n",
       "    </tr>\n",
       "    <tr>\n",
       "      <th>1</th>\n",
       "      <td>2</td>\n",
       "      <td>34.24</td>\n",
       "      <td>23.98</td>\n",
       "      <td>61</td>\n",
       "      <td>39.9</td>\n",
       "      <td>95.0</td>\n",
       "      <td>9.0</td>\n",
       "      <td>13.0</td>\n",
       "      <td>0.02</td>\n",
       "      <td>0.30</td>\n",
       "      <td>...</td>\n",
       "      <td>76.5</td>\n",
       "      <td>0.30</td>\n",
       "      <td>11.2</td>\n",
       "      <td>1.09</td>\n",
       "      <td>304</td>\n",
       "      <td>4.89</td>\n",
       "      <td>12.7</td>\n",
       "      <td>6.8</td>\n",
       "      <td>72.0</td>\n",
       "      <td>119.2</td>\n",
       "    </tr>\n",
       "    <tr>\n",
       "      <th>2</th>\n",
       "      <td>3</td>\n",
       "      <td>1.50</td>\n",
       "      <td>18.40</td>\n",
       "      <td>39</td>\n",
       "      <td>45.4</td>\n",
       "      <td>77.0</td>\n",
       "      <td>9.0</td>\n",
       "      <td>18.0</td>\n",
       "      <td>0.03</td>\n",
       "      <td>0.60</td>\n",
       "      <td>...</td>\n",
       "      <td>69.7</td>\n",
       "      <td>0.13</td>\n",
       "      <td>15.2</td>\n",
       "      <td>0.97</td>\n",
       "      <td>112</td>\n",
       "      <td>4.62</td>\n",
       "      <td>12.0</td>\n",
       "      <td>14.8</td>\n",
       "      <td>77.9</td>\n",
       "      <td>209.2</td>\n",
       "    </tr>\n",
       "    <tr>\n",
       "      <th>3</th>\n",
       "      <td>4</td>\n",
       "      <td>2.75</td>\n",
       "      <td>16.60</td>\n",
       "      <td>45</td>\n",
       "      <td>39.2</td>\n",
       "      <td>26.0</td>\n",
       "      <td>16.0</td>\n",
       "      <td>17.0</td>\n",
       "      <td>0.05</td>\n",
       "      <td>0.74</td>\n",
       "      <td>...</td>\n",
       "      <td>65.5</td>\n",
       "      <td>0.25</td>\n",
       "      <td>17.4</td>\n",
       "      <td>1.25</td>\n",
       "      <td>339</td>\n",
       "      <td>4.01</td>\n",
       "      <td>14.6</td>\n",
       "      <td>10.9</td>\n",
       "      <td>66.1</td>\n",
       "      <td>215.6</td>\n",
       "    </tr>\n",
       "    <tr>\n",
       "      <th>4</th>\n",
       "      <td>5</td>\n",
       "      <td>2.36</td>\n",
       "      <td>19.97</td>\n",
       "      <td>45</td>\n",
       "      <td>35.0</td>\n",
       "      <td>47.0</td>\n",
       "      <td>21.0</td>\n",
       "      <td>27.0</td>\n",
       "      <td>0.01</td>\n",
       "      <td>0.10</td>\n",
       "      <td>...</td>\n",
       "      <td>59.5</td>\n",
       "      <td>0.28</td>\n",
       "      <td>11.9</td>\n",
       "      <td>0.94</td>\n",
       "      <td>272</td>\n",
       "      <td>4.40</td>\n",
       "      <td>13.4</td>\n",
       "      <td>5.3</td>\n",
       "      <td>66.5</td>\n",
       "      <td>206.0</td>\n",
       "    </tr>\n",
       "  </tbody>\n",
       "</table>\n",
       "<p>5 rows × 51 columns</p>\n",
       "</div>"
      ],
      "text/plain": [
       "   SUBJECT_ID    AFP     AG  Age   ALB   ALP   ALT   AST  BASO#  BASO%  ...  \\\n",
       "0           1   3.58  19.36   47  45.4  56.0  11.0  24.0   0.01   0.30  ...   \n",
       "1           2  34.24  23.98   61  39.9  95.0   9.0  13.0   0.02   0.30  ...   \n",
       "2           3   1.50  18.40   39  45.4  77.0   9.0  18.0   0.03   0.60  ...   \n",
       "3           4   2.75  16.60   45  39.2  26.0  16.0  17.0   0.05   0.74  ...   \n",
       "4           5   2.36  19.97   45  35.0  47.0  21.0  27.0   0.01   0.10  ...   \n",
       "\n",
       "    NEU   PCT   PDW  PHOS  PLT   RBC   RDW  TBIL    TP     UA  \n",
       "0  76.2  0.09  13.4  1.46   74  2.64  13.7   5.5  73.9  396.4  \n",
       "1  76.5  0.30  11.2  1.09  304  4.89  12.7   6.8  72.0  119.2  \n",
       "2  69.7  0.13  15.2  0.97  112  4.62  12.0  14.8  77.9  209.2  \n",
       "3  65.5  0.25  17.4  1.25  339  4.01  14.6  10.9  66.1  215.6  \n",
       "4  59.5  0.28  11.9  0.94  272  4.40  13.4   5.3  66.5  206.0  \n",
       "\n",
       "[5 rows x 51 columns]"
      ]
     },
     "execution_count": 3,
     "metadata": {},
     "output_type": "execute_result"
    }
   ],
   "source": [
    "data = pd.read_excel(\"Supplementary data 1.xlsx\")\n",
    "data.head()"
   ]
  },
  {
   "cell_type": "markdown",
   "id": "4ab8e3d9",
   "metadata": {},
   "source": [
    "## SUBJECT_ID yi kaldırıyorum işlenebilecek bir veri değil"
   ]
  },
  {
   "cell_type": "code",
   "execution_count": 4,
   "id": "39699b31",
   "metadata": {},
   "outputs": [],
   "source": [
    "data=data.drop([\"SUBJECT_ID\"], axis=1)"
   ]
  },
  {
   "cell_type": "markdown",
   "id": "0db6e256",
   "metadata": {},
   "source": [
    "## bağzı featurelardaki veriler string \"<1210\" gibi. String bu verileri elimle silip sonra o feature'ı float a çevireceğim silmeyi elimle yapıyorum sonra kod ile o sütunu float açevireceğim çünkü silsem bile object olarak gözüküyor"
   ]
  },
  {
   "cell_type": "code",
   "execution_count": 5,
   "id": "5066bd2b",
   "metadata": {},
   "outputs": [],
   "source": [
    "data = data.astype({\"AFP\": float})"
   ]
  },
  {
   "cell_type": "code",
   "execution_count": 6,
   "id": "47114ca8",
   "metadata": {},
   "outputs": [],
   "source": [
    "data = data.astype({\"CA125\": float})"
   ]
  },
  {
   "cell_type": "code",
   "execution_count": 7,
   "id": "b841b85c",
   "metadata": {},
   "outputs": [],
   "source": [
    "data = data.astype({\"CA19-9\": float})"
   ]
  },
  {
   "cell_type": "code",
   "execution_count": 8,
   "id": "e3bd4316",
   "metadata": {},
   "outputs": [
    {
     "data": {
      "text/plain": [
       "AFP          float64\n",
       "AG           float64\n",
       "Age            int64\n",
       "ALB          float64\n",
       "ALP          float64\n",
       "ALT          float64\n",
       "AST          float64\n",
       "BASO#        float64\n",
       "BASO%        float64\n",
       "BUN          float64\n",
       "Ca           float64\n",
       "CA125        float64\n",
       "CA19-9       float64\n",
       "CA72-4       float64\n",
       "CEA          float64\n",
       "CL           float64\n",
       "CO2CP        float64\n",
       "CREA         float64\n",
       "TYPE           int64\n",
       "DBIL         float64\n",
       "EO#          float64\n",
       "EO%          float64\n",
       "GGT          float64\n",
       "GLO          float64\n",
       "GLU.         float64\n",
       "HCT          float64\n",
       "HE4          float64\n",
       "HGB          float64\n",
       "IBIL         float64\n",
       "K            float64\n",
       "LYM#         float64\n",
       "LYM%         float64\n",
       "MCH          float64\n",
       "MCV          float64\n",
       "Menopause      int64\n",
       "Mg           float64\n",
       "MONO#        float64\n",
       "MONO%        float64\n",
       "MPV          float64\n",
       "Na           float64\n",
       "NEU          float64\n",
       "PCT          float64\n",
       "PDW          float64\n",
       "PHOS         float64\n",
       "PLT            int64\n",
       "RBC          float64\n",
       "RDW          float64\n",
       "TBIL         float64\n",
       "TP           float64\n",
       "UA           float64\n",
       "dtype: object"
      ]
     },
     "execution_count": 8,
     "metadata": {},
     "output_type": "execute_result"
    }
   ],
   "source": [
    "data.dtypes"
   ]
  },
  {
   "cell_type": "code",
   "execution_count": 9,
   "id": "faa06fef",
   "metadata": {},
   "outputs": [
    {
     "data": {
      "text/plain": [
       "(349, 50)"
      ]
     },
     "execution_count": 9,
     "metadata": {},
     "output_type": "execute_result"
    }
   ],
   "source": [
    "data.shape"
   ]
  },
  {
   "cell_type": "code",
   "execution_count": 10,
   "id": "2785e379",
   "metadata": {},
   "outputs": [],
   "source": [
    "# featurelara ın yüzde kaçı boş onu listeledim"
   ]
  },
  {
   "cell_type": "code",
   "execution_count": 11,
   "id": "5f378841",
   "metadata": {},
   "outputs": [
    {
     "data": {
      "text/plain": [
       "AFP           7.163324\n",
       "AG            0.286533\n",
       "Age           0.000000\n",
       "ALB           2.865330\n",
       "ALP           2.865330\n",
       "ALT           2.865330\n",
       "AST           2.865330\n",
       "BASO#         0.000000\n",
       "BASO%         0.000000\n",
       "BUN           0.000000\n",
       "Ca            0.000000\n",
       "CA125         5.444126\n",
       "CA19-9        9.455587\n",
       "CA72-4       68.767908\n",
       "CEA           6.303725\n",
       "CL            0.000000\n",
       "CO2CP         0.286533\n",
       "CREA          0.000000\n",
       "TYPE          0.000000\n",
       "DBIL          2.865330\n",
       "EO#           0.000000\n",
       "EO%           0.000000\n",
       "GGT           2.865330\n",
       "GLO           2.865330\n",
       "GLU.          0.000000\n",
       "HCT           0.000000\n",
       "HE4           5.730659\n",
       "HGB           0.000000\n",
       "IBIL          2.865330\n",
       "K             0.000000\n",
       "LYM#          0.000000\n",
       "LYM%          0.000000\n",
       "MCH           0.000000\n",
       "MCV           0.000000\n",
       "Menopause     0.000000\n",
       "Mg            0.000000\n",
       "MONO#         0.000000\n",
       "MONO%         0.000000\n",
       "MPV           0.573066\n",
       "Na            0.000000\n",
       "NEU          26.074499\n",
       "PCT           0.573066\n",
       "PDW           0.573066\n",
       "PHOS          0.000000\n",
       "PLT           0.000000\n",
       "RBC           0.000000\n",
       "RDW           0.000000\n",
       "TBIL          2.865330\n",
       "TP            2.865330\n",
       "UA            0.000000\n",
       "dtype: float64"
      ]
     },
     "execution_count": 11,
     "metadata": {},
     "output_type": "execute_result"
    }
   ],
   "source": [
    "data.isna().sum() / data.shape[0]*100"
   ]
  },
  {
   "cell_type": "markdown",
   "id": "9dd273d4",
   "metadata": {},
   "source": [
    "## garfiklere bakarak outlier değerleri attım"
   ]
  },
  {
   "cell_type": "code",
   "execution_count": 12,
   "id": "d2936e71",
   "metadata": {},
   "outputs": [],
   "source": [
    "data=data.drop([\"CA72-4\"], axis=1) # çok fazla boş veri var o yzüden sildim"
   ]
  },
  {
   "cell_type": "code",
   "execution_count": 13,
   "id": "6b2b6e20",
   "metadata": {},
   "outputs": [
    {
     "data": {
      "text/plain": [
       "4.458240740740741"
      ]
     },
     "execution_count": 13,
     "metadata": {},
     "output_type": "execute_result"
    }
   ],
   "source": [
    "data[\"AFP\"].sum()/data[\"AFP\"].count()"
   ]
  },
  {
   "cell_type": "code",
   "execution_count": 14,
   "id": "925d0728",
   "metadata": {},
   "outputs": [
    {
     "data": {
      "text/plain": [
       "<AxesSubplot:xlabel='NEU', ylabel='Count'>"
      ]
     },
     "execution_count": 14,
     "metadata": {},
     "output_type": "execute_result"
    },
    {
     "data": {
      "image/png": "[encoded data removed]",
      "text/plain": [
       "<Figure size 432x288 with 1 Axes>"
      ]
     },
     "metadata": {
      "needs_background": "light"
     },
     "output_type": "display_data"
    }
   ],
   "source": [
    "sbn.histplot(data[\"NEU\"])"
   ]
  },
  {
   "cell_type": "code",
   "execution_count": 15,
   "id": "03ab33cd",
   "metadata": {},
   "outputs": [
    {
     "data": {
      "text/plain": [
       "<AxesSubplot:xlabel='AFP', ylabel='Count'>"
      ]
     },
     "execution_count": 15,
     "metadata": {},
     "output_type": "execute_result"
    },
    {
     "data": {
      "image/png": "[encoded data removed]",
      "text/plain": [
       "<Figure size 864x360 with 1 Axes>"
      ]
     },
     "metadata": {
      "needs_background": "light"
     },
     "output_type": "display_data"
    }
   ],
   "source": [
    "plt.figure(figsize=(12,5))\n",
    "sbn.histplot(data[\"AFP\"])"
   ]
  },
  {
   "cell_type": "code",
   "execution_count": 16,
   "id": "370d4157",
   "metadata": {},
   "outputs": [
    {
     "data": {
      "text/plain": [
       "0     3.58\n",
       "1    34.24\n",
       "2     1.50\n",
       "3     2.75\n",
       "4     2.36\n",
       "5     3.79\n",
       "6      NaN\n",
       "7     3.03\n",
       "8     1.01\n",
       "9     4.70\n",
       "Name: AFP, dtype: float64"
      ]
     },
     "execution_count": 16,
     "metadata": {},
     "output_type": "execute_result"
    }
   ],
   "source": [
    "data[\"AFP\"].head(10)"
   ]
  },
  {
   "cell_type": "code",
   "execution_count": 17,
   "id": "55959940",
   "metadata": {},
   "outputs": [],
   "source": [
    "data[\"AFP\"]=data.loc[data['AFP'] < 6, 'AFP']"
   ]
  },
  {
   "cell_type": "code",
   "execution_count": 18,
   "id": "84190ad8",
   "metadata": {},
   "outputs": [
    {
     "data": {
      "text/plain": [
       "0      3.58\n",
       "1       NaN\n",
       "2      1.50\n",
       "3      2.75\n",
       "4      2.36\n",
       "       ... \n",
       "344    2.09\n",
       "345    2.00\n",
       "346    2.83\n",
       "347    1.84\n",
       "348     NaN\n",
       "Name: AFP, Length: 349, dtype: float64"
      ]
     },
     "execution_count": 18,
     "metadata": {},
     "output_type": "execute_result"
    }
   ],
   "source": [
    "data[\"AFP\"]"
   ]
  },
  {
   "cell_type": "code",
   "execution_count": 19,
   "id": "5672142c",
   "metadata": {},
   "outputs": [
    {
     "data": {
      "text/plain": [
       "<AxesSubplot:xlabel='AFP', ylabel='Count'>"
      ]
     },
     "execution_count": 19,
     "metadata": {},
     "output_type": "execute_result"
    },
    {
     "data": {
      "image/png": "[encoded data removed]",
      "text/plain": [
       "<Figure size 864x360 with 1 Axes>"
      ]
     },
     "metadata": {
      "needs_background": "light"
     },
     "output_type": "display_data"
    }
   ],
   "source": [
    "plt.figure(figsize=(12,5))\n",
    "sbn.histplot(data[\"AFP\"])"
   ]
  },
  {
   "cell_type": "code",
   "execution_count": 20,
   "id": "43c76eb8",
   "metadata": {},
   "outputs": [
    {
     "data": {
      "text/plain": [
       "0    3.58\n",
       "1     NaN\n",
       "2    1.50\n",
       "3    2.75\n",
       "4    2.36\n",
       "5    3.79\n",
       "6     NaN\n",
       "7    3.03\n",
       "8    1.01\n",
       "9    4.70\n",
       "Name: AFP, dtype: float64"
      ]
     },
     "execution_count": 20,
     "metadata": {},
     "output_type": "execute_result"
    }
   ],
   "source": [
    "data[\"AFP\"].head(10)"
   ]
  },
  {
   "cell_type": "code",
   "execution_count": 21,
   "id": "8febd66a",
   "metadata": {},
   "outputs": [
    {
     "data": {
      "text/plain": [
       "(349,)"
      ]
     },
     "execution_count": 21,
     "metadata": {},
     "output_type": "execute_result"
    }
   ],
   "source": [
    "data[\"AFP\"].shape"
   ]
  },
  {
   "cell_type": "code",
   "execution_count": 22,
   "id": "49bd2bcf",
   "metadata": {},
   "outputs": [
    {
     "data": {
      "text/plain": [
       "<AxesSubplot:xlabel='AG', ylabel='Count'>"
      ]
     },
     "execution_count": 22,
     "metadata": {},
     "output_type": "execute_result"
    },
    {
     "data": {
      "image/png": "[encoded data removed]",
      "text/plain": [
       "<Figure size 504x360 with 1 Axes>"
      ]
     },
     "metadata": {
      "needs_background": "light"
     },
     "output_type": "display_data"
    }
   ],
   "source": [
    "plt.figure(figsize=(7,5))\n",
    "sbn.histplot(data[\"AG\"])"
   ]
  },
  {
   "cell_type": "code",
   "execution_count": 23,
   "id": "af830839",
   "metadata": {},
   "outputs": [
    {
     "data": {
      "text/plain": [
       "<AxesSubplot:xlabel='Age', ylabel='Count'>"
      ]
     },
     "execution_count": 23,
     "metadata": {},
     "output_type": "execute_result"
    },
    {
     "data": {
      "image/png": "[encoded data removed]",
      "text/plain": [
       "<Figure size 504x360 with 1 Axes>"
      ]
     },
     "metadata": {
      "needs_background": "light"
     },
     "output_type": "display_data"
    }
   ],
   "source": [
    "plt.figure(figsize=(7,5))\n",
    "sbn.histplot(data[\"Age\"])"
   ]
  },
  {
   "cell_type": "code",
   "execution_count": 24,
   "id": "f5c4d3a5",
   "metadata": {},
   "outputs": [
    {
     "data": {
      "text/plain": [
       "<AxesSubplot:xlabel='ALB', ylabel='Count'>"
      ]
     },
     "execution_count": 24,
     "metadata": {},
     "output_type": "execute_result"
    },
    {
     "data": {
      "image/png": "[encoded data removed]",
      "text/plain": [
       "<Figure size 504x360 with 1 Axes>"
      ]
     },
     "metadata": {
      "needs_background": "light"
     },
     "output_type": "display_data"
    }
   ],
   "source": [
    "plt.figure(figsize=(7,5))\n",
    "sbn.histplot(data[\"ALB\"])"
   ]
  },
  {
   "cell_type": "code",
   "execution_count": 25,
   "id": "43f99d1c",
   "metadata": {},
   "outputs": [
    {
     "data": {
      "text/plain": [
       "<AxesSubplot:xlabel='ALP', ylabel='Count'>"
      ]
     },
     "execution_count": 25,
     "metadata": {},
     "output_type": "execute_result"
    },
    {
     "data": {
      "image/png": "[encoded data removed]",
      "text/plain": [
       "<Figure size 720x360 with 1 Axes>"
      ]
     },
     "metadata": {
      "needs_background": "light"
     },
     "output_type": "display_data"
    }
   ],
   "source": [
    "plt.figure(figsize=(10,5))\n",
    "sbn.histplot(data[\"ALP\"])"
   ]
  },
  {
   "cell_type": "code",
   "execution_count": 26,
   "id": "7106bd5d",
   "metadata": {},
   "outputs": [],
   "source": [
    "data[\"ALP\"]=data.loc[data['ALP'] < 150, 'ALP']"
   ]
  },
  {
   "cell_type": "code",
   "execution_count": 27,
   "id": "f3ec55de",
   "metadata": {},
   "outputs": [
    {
     "data": {
      "text/plain": [
       "<AxesSubplot:xlabel='ALP', ylabel='Count'>"
      ]
     },
     "execution_count": 27,
     "metadata": {},
     "output_type": "execute_result"
    },
    {
     "data": {
      "image/png": "[encoded data removed]",
      "text/plain": [
       "<Figure size 720x360 with 1 Axes>"
      ]
     },
     "metadata": {
      "needs_background": "light"
     },
     "output_type": "display_data"
    }
   ],
   "source": [
    "plt.figure(figsize=(10,5))\n",
    "sbn.histplot(data[\"ALP\"])"
   ]
  },
  {
   "cell_type": "code",
   "execution_count": 28,
   "id": "eddeda4d",
   "metadata": {},
   "outputs": [
    {
     "data": {
      "text/plain": [
       "(349,)"
      ]
     },
     "execution_count": 28,
     "metadata": {},
     "output_type": "execute_result"
    }
   ],
   "source": [
    "data[\"ALP\"].shape"
   ]
  },
  {
   "cell_type": "code",
   "execution_count": 29,
   "id": "a7bded28",
   "metadata": {},
   "outputs": [
    {
     "data": {
      "text/plain": [
       "<AxesSubplot:xlabel='ALT', ylabel='Count'>"
      ]
     },
     "execution_count": 29,
     "metadata": {},
     "output_type": "execute_result"
    },
    {
     "data": {
      "image/png": "[encoded data removed]",
      "text/plain": [
       "<Figure size 504x360 with 1 Axes>"
      ]
     },
     "metadata": {
      "needs_background": "light"
     },
     "output_type": "display_data"
    }
   ],
   "source": [
    "plt.figure(figsize=(7,5))\n",
    "sbn.histplot(data[\"ALT\"])"
   ]
  },
  {
   "cell_type": "code",
   "execution_count": 30,
   "id": "29764be1",
   "metadata": {},
   "outputs": [
    {
     "data": {
      "text/plain": [
       "0    11.0\n",
       "1     9.0\n",
       "2     9.0\n",
       "3    16.0\n",
       "4    21.0\n",
       "5    51.0\n",
       "6     NaN\n",
       "7    16.0\n",
       "8    62.0\n",
       "9    16.0\n",
       "Name: ALT, dtype: float64"
      ]
     },
     "execution_count": 30,
     "metadata": {},
     "output_type": "execute_result"
    }
   ],
   "source": [
    "data[\"ALT\"].head(10)"
   ]
  },
  {
   "cell_type": "code",
   "execution_count": 31,
   "id": "c7e6f34d",
   "metadata": {},
   "outputs": [],
   "source": [
    "data[\"ALT\"]=data.loc[data['ALT'] < 40, 'ALT'] # vürgülden sonraki değeri AFP olarak unuttuğumda kod çalıştı ama \n",
    "#garip bir şekilde filtreledi bu fonksiyonu iyi öğrenmeliyim"
   ]
  },
  {
   "cell_type": "code",
   "execution_count": 32,
   "id": "ece63afc",
   "metadata": {},
   "outputs": [
    {
     "data": {
      "text/plain": [
       "<AxesSubplot:xlabel='ALT', ylabel='Count'>"
      ]
     },
     "execution_count": 32,
     "metadata": {},
     "output_type": "execute_result"
    },
    {
     "data": {
      "image/png": "[encoded data removed]",
      "text/plain": [
       "<Figure size 720x360 with 1 Axes>"
      ]
     },
     "metadata": {
      "needs_background": "light"
     },
     "output_type": "display_data"
    }
   ],
   "source": [
    "plt.figure(figsize=(10,5))\n",
    "sbn.histplot(data[\"ALT\"])"
   ]
  },
  {
   "cell_type": "code",
   "execution_count": 33,
   "id": "592823f0",
   "metadata": {},
   "outputs": [
    {
     "data": {
      "text/plain": [
       "<AxesSubplot:xlabel='AST', ylabel='Count'>"
      ]
     },
     "execution_count": 33,
     "metadata": {},
     "output_type": "execute_result"
    },
    {
     "data": {
      "image/png": "[encoded data removed]",
      "text/plain": [
       "<Figure size 720x360 with 1 Axes>"
      ]
     },
     "metadata": {
      "needs_background": "light"
     },
     "output_type": "display_data"
    }
   ],
   "source": [
    "plt.figure(figsize=(10,5))\n",
    "sbn.histplot(data[\"AST\"])"
   ]
  },
  {
   "cell_type": "code",
   "execution_count": 34,
   "id": "c4d7cdf1",
   "metadata": {},
   "outputs": [],
   "source": [
    "data[\"AST\"]=data.loc[data['AST'] < 30, 'AST']"
   ]
  },
  {
   "cell_type": "code",
   "execution_count": 35,
   "id": "e13a1359",
   "metadata": {},
   "outputs": [
    {
     "data": {
      "text/plain": [
       "<AxesSubplot:xlabel='AST', ylabel='Count'>"
      ]
     },
     "execution_count": 35,
     "metadata": {},
     "output_type": "execute_result"
    },
    {
     "data": {
      "image/png": "[encoded data removed]",
      "text/plain": [
       "<Figure size 720x360 with 1 Axes>"
      ]
     },
     "metadata": {
      "needs_background": "light"
     },
     "output_type": "display_data"
    }
   ],
   "source": [
    "plt.figure(figsize=(10,5))\n",
    "sbn.histplot(data[\"AST\"])"
   ]
  },
  {
   "cell_type": "code",
   "execution_count": 36,
   "id": "fd96badd",
   "metadata": {},
   "outputs": [
    {
     "data": {
      "text/plain": [
       "(349,)"
      ]
     },
     "execution_count": 36,
     "metadata": {},
     "output_type": "execute_result"
    }
   ],
   "source": [
    "data[\"AST\"].shape"
   ]
  },
  {
   "cell_type": "code",
   "execution_count": 37,
   "id": "b474da31",
   "metadata": {},
   "outputs": [
    {
     "data": {
      "text/plain": [
       "<AxesSubplot:xlabel='BASO#', ylabel='Count'>"
      ]
     },
     "execution_count": 37,
     "metadata": {},
     "output_type": "execute_result"
    },
    {
     "data": {
      "image/png": "[encoded data removed]",
      "text/plain": [
       "<Figure size 720x360 with 1 Axes>"
      ]
     },
     "metadata": {
      "needs_background": "light"
     },
     "output_type": "display_data"
    }
   ],
   "source": [
    "plt.figure(figsize=(10,5))\n",
    "sbn.histplot(data[\"BASO#\"])"
   ]
  },
  {
   "cell_type": "code",
   "execution_count": 38,
   "id": "fca0ed15",
   "metadata": {},
   "outputs": [],
   "source": [
    "data['BASO#']=data.loc[data['BASO#'] < 0.06, 'BASO#']"
   ]
  },
  {
   "cell_type": "code",
   "execution_count": 39,
   "id": "322596ef",
   "metadata": {},
   "outputs": [
    {
     "data": {
      "text/plain": [
       "<AxesSubplot:xlabel='BASO#', ylabel='Count'>"
      ]
     },
     "execution_count": 39,
     "metadata": {},
     "output_type": "execute_result"
    },
    {
     "data": {
      "image/png": "[encoded data removed]",
      "text/plain": [
       "<Figure size 720x360 with 1 Axes>"
      ]
     },
     "metadata": {
      "needs_background": "light"
     },
     "output_type": "display_data"
    }
   ],
   "source": [
    "plt.figure(figsize=(10,5))\n",
    "sbn.histplot(data[\"BASO#\"])"
   ]
  },
  {
   "cell_type": "code",
   "execution_count": 40,
   "id": "b9726b2e",
   "metadata": {},
   "outputs": [
    {
     "data": {
      "text/plain": [
       "<AxesSubplot:xlabel='BASO%', ylabel='Count'>"
      ]
     },
     "execution_count": 40,
     "metadata": {},
     "output_type": "execute_result"
    },
    {
     "data": {
      "image/png": "[encoded data removed]",
      "text/plain": [
       "<Figure size 720x360 with 1 Axes>"
      ]
     },
     "metadata": {
      "needs_background": "light"
     },
     "output_type": "display_data"
    }
   ],
   "source": [
    "plt.figure(figsize=(10,5))\n",
    "sbn.histplot(data[\"BASO%\"])"
   ]
  },
  {
   "cell_type": "code",
   "execution_count": 41,
   "id": "2635f7f1",
   "metadata": {},
   "outputs": [
    {
     "data": {
      "text/plain": [
       "<AxesSubplot:xlabel='BUN', ylabel='Count'>"
      ]
     },
     "execution_count": 41,
     "metadata": {},
     "output_type": "execute_result"
    },
    {
     "data": {
      "image/png": "[encoded data removed]",
      "text/plain": [
       "<Figure size 720x360 with 1 Axes>"
      ]
     },
     "metadata": {
      "needs_background": "light"
     },
     "output_type": "display_data"
    }
   ],
   "source": [
    "plt.figure(figsize=(10,5))\n",
    "sbn.histplot(data[\"BUN\"])"
   ]
  },
  {
   "cell_type": "code",
   "execution_count": 42,
   "id": "84ea1f9d",
   "metadata": {},
   "outputs": [],
   "source": [
    "data['BUN']=data.loc[data['BUN'] < 6, 'BUN']"
   ]
  },
  {
   "cell_type": "code",
   "execution_count": 43,
   "id": "38f9b4c2",
   "metadata": {},
   "outputs": [
    {
     "data": {
      "text/plain": [
       "<AxesSubplot:xlabel='BUN', ylabel='Count'>"
      ]
     },
     "execution_count": 43,
     "metadata": {},
     "output_type": "execute_result"
    },
    {
     "data": {
      "image/png": "[encoded data removed]",
      "text/plain": [
       "<Figure size 720x360 with 1 Axes>"
      ]
     },
     "metadata": {
      "needs_background": "light"
     },
     "output_type": "display_data"
    }
   ],
   "source": [
    "plt.figure(figsize=(10,5))\n",
    "sbn.histplot(data[\"BUN\"])"
   ]
  },
  {
   "cell_type": "code",
   "execution_count": 44,
   "id": "81f2010e",
   "metadata": {},
   "outputs": [
    {
     "data": {
      "text/plain": [
       "<AxesSubplot:xlabel='Ca', ylabel='Count'>"
      ]
     },
     "execution_count": 44,
     "metadata": {},
     "output_type": "execute_result"
    },
    {
     "data": {
      "image/png": "[encoded data removed]",
      "text/plain": [
       "<Figure size 720x360 with 1 Axes>"
      ]
     },
     "metadata": {
      "needs_background": "light"
     },
     "output_type": "display_data"
    }
   ],
   "source": [
    "plt.figure(figsize=(10,5))\n",
    "sbn.histplot(data[\"Ca\"])"
   ]
  },
  {
   "cell_type": "code",
   "execution_count": 45,
   "id": "5606a5d3",
   "metadata": {},
   "outputs": [],
   "source": [
    "data['Ca']=data.loc[data['Ca'] > 2, 'Ca']"
   ]
  },
  {
   "cell_type": "code",
   "execution_count": 46,
   "id": "f54a77b5",
   "metadata": {},
   "outputs": [
    {
     "data": {
      "text/plain": [
       "<AxesSubplot:xlabel='Ca', ylabel='Count'>"
      ]
     },
     "execution_count": 46,
     "metadata": {},
     "output_type": "execute_result"
    },
    {
     "data": {
      "image/png": "[encoded data removed]",
      "text/plain": [
       "<Figure size 720x360 with 1 Axes>"
      ]
     },
     "metadata": {
      "needs_background": "light"
     },
     "output_type": "display_data"
    }
   ],
   "source": [
    "plt.figure(figsize=(10,5))\n",
    "sbn.histplot(data[\"Ca\"])"
   ]
  },
  {
   "cell_type": "code",
   "execution_count": 47,
   "id": "16d40670",
   "metadata": {},
   "outputs": [
    {
     "data": {
      "text/plain": [
       "<AxesSubplot:xlabel='CA19-9', ylabel='Count'>"
      ]
     },
     "execution_count": 47,
     "metadata": {},
     "output_type": "execute_result"
    },
    {
     "data": {
      "image/png": "[encoded data removed]",
      "text/plain": [
       "<Figure size 720x360 with 1 Axes>"
      ]
     },
     "metadata": {
      "needs_background": "light"
     },
     "output_type": "display_data"
    }
   ],
   "source": [
    "plt.figure(figsize=(10,5))\n",
    "sbn.histplot(data[\"CA19-9\"]) #Bu özelliği atıp tekrar bi bakmalıyım "
   ]
  },
  {
   "cell_type": "code",
   "execution_count": 48,
   "id": "076f53de",
   "metadata": {},
   "outputs": [],
   "source": [
    "data=data.drop([\"CA19-9\"], axis=1) # bu özelliği sildim"
   ]
  },
  {
   "cell_type": "code",
   "execution_count": 49,
   "id": "183b8abb",
   "metadata": {},
   "outputs": [
    {
     "data": {
      "text/plain": [
       "<AxesSubplot:xlabel='CEA', ylabel='Count'>"
      ]
     },
     "execution_count": 49,
     "metadata": {},
     "output_type": "execute_result"
    },
    {
     "data": {
      "image/png": "[encoded data removed]",
      "text/plain": [
       "<Figure size 720x360 with 1 Axes>"
      ]
     },
     "metadata": {
      "needs_background": "light"
     },
     "output_type": "display_data"
    }
   ],
   "source": [
    "plt.figure(figsize=(10,5))\n",
    "sbn.histplot(data[\"CEA\"])"
   ]
  },
  {
   "cell_type": "code",
   "execution_count": 50,
   "id": "136ddfd0",
   "metadata": {},
   "outputs": [],
   "source": [
    "data['CEA']=data.loc[data['CEA'] <5, 'CEA']"
   ]
  },
  {
   "cell_type": "code",
   "execution_count": 51,
   "id": "09d62264",
   "metadata": {},
   "outputs": [
    {
     "data": {
      "text/plain": [
       "<AxesSubplot:xlabel='CEA', ylabel='Count'>"
      ]
     },
     "execution_count": 51,
     "metadata": {},
     "output_type": "execute_result"
    },
    {
     "data": {
      "image/png": "[encoded data removed]",
      "text/plain": [
       "<Figure size 720x360 with 1 Axes>"
      ]
     },
     "metadata": {
      "needs_background": "light"
     },
     "output_type": "display_data"
    }
   ],
   "source": [
    "plt.figure(figsize=(10,5))\n",
    "sbn.histplot(data[\"CEA\"])"
   ]
  },
  {
   "cell_type": "code",
   "execution_count": 52,
   "id": "5bd0c124",
   "metadata": {},
   "outputs": [
    {
     "data": {
      "text/plain": [
       "(349,)"
      ]
     },
     "execution_count": 52,
     "metadata": {},
     "output_type": "execute_result"
    }
   ],
   "source": [
    "data[\"CEA\"].shape"
   ]
  },
  {
   "cell_type": "code",
   "execution_count": 53,
   "id": "f952a2ca",
   "metadata": {},
   "outputs": [
    {
     "data": {
      "text/plain": [
       "<AxesSubplot:xlabel='CL', ylabel='Count'>"
      ]
     },
     "execution_count": 53,
     "metadata": {},
     "output_type": "execute_result"
    },
    {
     "data": {
      "image/png": "[encoded data removed]",
      "text/plain": [
       "<Figure size 720x360 with 1 Axes>"
      ]
     },
     "metadata": {
      "needs_background": "light"
     },
     "output_type": "display_data"
    }
   ],
   "source": [
    "plt.figure(figsize=(10,5))\n",
    "sbn.histplot(data[\"CL\"]) #Bu özelliği hiç filtrelemesemde olur"
   ]
  },
  {
   "cell_type": "code",
   "execution_count": 54,
   "id": "d8421d5c",
   "metadata": {},
   "outputs": [
    {
     "data": {
      "text/plain": [
       "<AxesSubplot:xlabel='CL', ylabel='Count'>"
      ]
     },
     "execution_count": 54,
     "metadata": {},
     "output_type": "execute_result"
    },
    {
     "data": {
      "image/png": "[encoded data removed]",
      "text/plain": [
       "<Figure size 720x360 with 1 Axes>"
      ]
     },
     "metadata": {
      "needs_background": "light"
     },
     "output_type": "display_data"
    }
   ],
   "source": [
    "data['CL']=data.loc[data['CL'] >95, 'CL']\n",
    "plt.figure(figsize=(10,5))\n",
    "sbn.histplot(data[\"CL\"])"
   ]
  },
  {
   "cell_type": "code",
   "execution_count": 55,
   "id": "6b00f926",
   "metadata": {},
   "outputs": [
    {
     "data": {
      "text/plain": [
       "<AxesSubplot:xlabel='CO2CP', ylabel='Count'>"
      ]
     },
     "execution_count": 55,
     "metadata": {},
     "output_type": "execute_result"
    },
    {
     "data": {
      "image/png": "[encoded data removed]",
      "text/plain": [
       "<Figure size 720x360 with 1 Axes>"
      ]
     },
     "metadata": {
      "needs_background": "light"
     },
     "output_type": "display_data"
    }
   ],
   "source": [
    "plt.figure(figsize=(10,5))\n",
    "sbn.histplot(data[\"CO2CP\"])"
   ]
  },
  {
   "cell_type": "code",
   "execution_count": 56,
   "id": "a2c8b16c",
   "metadata": {},
   "outputs": [
    {
     "data": {
      "text/plain": [
       "<AxesSubplot:xlabel='CREA', ylabel='Count'>"
      ]
     },
     "execution_count": 56,
     "metadata": {},
     "output_type": "execute_result"
    },
    {
     "data": {
      "image/png": "[encoded data removed]",
      "text/plain": [
       "<Figure size 720x360 with 1 Axes>"
      ]
     },
     "metadata": {
      "needs_background": "light"
     },
     "output_type": "display_data"
    }
   ],
   "source": [
    "plt.figure(figsize=(10,5))\n",
    "sbn.histplot(data[\"CREA\"])"
   ]
  },
  {
   "cell_type": "code",
   "execution_count": 57,
   "id": "5d6c536f",
   "metadata": {},
   "outputs": [
    {
     "data": {
      "text/plain": [
       "<AxesSubplot:xlabel='CREA', ylabel='Count'>"
      ]
     },
     "execution_count": 57,
     "metadata": {},
     "output_type": "execute_result"
    },
    {
     "data": {
      "image/png": "[encoded data removed]",
      "text/plain": [
       "<Figure size 720x360 with 1 Axes>"
      ]
     },
     "metadata": {
      "needs_background": "light"
     },
     "output_type": "display_data"
    }
   ],
   "source": [
    "data['CREA']=data.loc[data['CREA'] <90, 'CREA']\n",
    "plt.figure(figsize=(10,5))\n",
    "sbn.histplot(data[\"CREA\"])"
   ]
  },
  {
   "cell_type": "code",
   "execution_count": 58,
   "id": "92de328d",
   "metadata": {},
   "outputs": [
    {
     "data": {
      "text/plain": [
       "<AxesSubplot:xlabel='DBIL', ylabel='Count'>"
      ]
     },
     "execution_count": 58,
     "metadata": {},
     "output_type": "execute_result"
    },
    {
     "data": {
      "image/png": "[encoded data removed]",
      "text/plain": [
       "<Figure size 720x360 with 1 Axes>"
      ]
     },
     "metadata": {
      "needs_background": "light"
     },
     "output_type": "display_data"
    }
   ],
   "source": [
    "plt.figure(figsize=(10,5))\n",
    "sbn.histplot(data[\"DBIL\"])"
   ]
  },
  {
   "cell_type": "code",
   "execution_count": 59,
   "id": "7e13b046",
   "metadata": {},
   "outputs": [
    {
     "data": {
      "text/plain": [
       "<AxesSubplot:xlabel='DBIL', ylabel='Count'>"
      ]
     },
     "execution_count": 59,
     "metadata": {},
     "output_type": "execute_result"
    },
    {
     "data": {
      "image/png": "[encoded data removed]",
      "text/plain": [
       "<Figure size 720x360 with 1 Axes>"
      ]
     },
     "metadata": {
      "needs_background": "light"
     },
     "output_type": "display_data"
    }
   ],
   "source": [
    "data['DBIL']=data.loc[data['DBIL'] <5, 'DBIL']\n",
    "plt.figure(figsize=(10,5))\n",
    "sbn.histplot(data[\"DBIL\"])"
   ]
  },
  {
   "cell_type": "code",
   "execution_count": 60,
   "id": "1472eae7",
   "metadata": {},
   "outputs": [
    {
     "data": {
      "text/plain": [
       "<AxesSubplot:xlabel='EO#', ylabel='Count'>"
      ]
     },
     "execution_count": 60,
     "metadata": {},
     "output_type": "execute_result"
    },
    {
     "data": {
      "image/png": "[encoded data removed]",
      "text/plain": [
       "<Figure size 720x360 with 1 Axes>"
      ]
     },
     "metadata": {
      "needs_background": "light"
     },
     "output_type": "display_data"
    }
   ],
   "source": [
    "plt.figure(figsize=(10,5))\n",
    "sbn.histplot(data[\"EO#\"]) # Bu özelleği kullanmasamda olabilir"
   ]
  },
  {
   "cell_type": "code",
   "execution_count": 61,
   "id": "278ec60b",
   "metadata": {},
   "outputs": [],
   "source": [
    "data=data.drop([\"EO#\"], axis=1)"
   ]
  },
  {
   "cell_type": "code",
   "execution_count": 62,
   "id": "bf7e1173",
   "metadata": {},
   "outputs": [
    {
     "data": {
      "text/plain": [
       "<AxesSubplot:xlabel='EO%', ylabel='Count'>"
      ]
     },
     "execution_count": 62,
     "metadata": {},
     "output_type": "execute_result"
    },
    {
     "data": {
      "image/png": "[encoded data removed]",
      "text/plain": [
       "<Figure size 720x360 with 1 Axes>"
      ]
     },
     "metadata": {
      "needs_background": "light"
     },
     "output_type": "display_data"
    }
   ],
   "source": [
    "plt.figure(figsize=(10,5))\n",
    "sbn.histplot(data[\"EO%\"])"
   ]
  },
  {
   "cell_type": "code",
   "execution_count": 63,
   "id": "7036095f",
   "metadata": {},
   "outputs": [
    {
     "data": {
      "text/plain": [
       "<AxesSubplot:xlabel='EO%', ylabel='Count'>"
      ]
     },
     "execution_count": 63,
     "metadata": {},
     "output_type": "execute_result"
    },
    {
     "data": {
      "image/png": "[encoded data removed]",
      "text/plain": [
       "<Figure size 720x360 with 1 Axes>"
      ]
     },
     "metadata": {
      "needs_background": "light"
     },
     "output_type": "display_data"
    }
   ],
   "source": [
    "data['EO%']=data.loc[data['EO%'] <3, 'EO%']\n",
    "plt.figure(figsize=(10,5))\n",
    "sbn.histplot(data[\"EO%\"]) "
   ]
  },
  {
   "cell_type": "code",
   "execution_count": 64,
   "id": "afd91052",
   "metadata": {},
   "outputs": [],
   "source": [
    "data=data.drop([\"EO%\"], axis=1) # SİLDİM"
   ]
  },
  {
   "cell_type": "code",
   "execution_count": 65,
   "id": "62e58c53",
   "metadata": {},
   "outputs": [
    {
     "data": {
      "text/plain": [
       "<AxesSubplot:xlabel='GGT', ylabel='Count'>"
      ]
     },
     "execution_count": 65,
     "metadata": {},
     "output_type": "execute_result"
    },
    {
     "data": {
      "image/png": "[encoded data removed]",
      "text/plain": [
       "<Figure size 720x360 with 1 Axes>"
      ]
     },
     "metadata": {
      "needs_background": "light"
     },
     "output_type": "display_data"
    }
   ],
   "source": [
    "plt.figure(figsize=(10,5))\n",
    "sbn.histplot(data[\"GGT\"])"
   ]
  },
  {
   "cell_type": "code",
   "execution_count": 66,
   "id": "7ba840a0",
   "metadata": {},
   "outputs": [
    {
     "data": {
      "text/plain": [
       "<AxesSubplot:xlabel='GGT', ylabel='Count'>"
      ]
     },
     "execution_count": 66,
     "metadata": {},
     "output_type": "execute_result"
    },
    {
     "data": {
      "image/png": "[encoded data removed]",
      "text/plain": [
       "<Figure size 720x360 with 1 Axes>"
      ]
     },
     "metadata": {
      "needs_background": "light"
     },
     "output_type": "display_data"
    }
   ],
   "source": [
    "data['GGT']=data.loc[data['GGT'] <45, 'GGT']\n",
    "plt.figure(figsize=(10,5))\n",
    "sbn.histplot(data[\"GGT\"])"
   ]
  },
  {
   "cell_type": "code",
   "execution_count": 67,
   "id": "48d173a0",
   "metadata": {},
   "outputs": [
    {
     "data": {
      "text/plain": [
       "<AxesSubplot:xlabel='GLO', ylabel='Count'>"
      ]
     },
     "execution_count": 67,
     "metadata": {},
     "output_type": "execute_result"
    },
    {
     "data": {
      "image/png": "[encoded data removed]",
      "text/plain": [
       "<Figure size 720x360 with 1 Axes>"
      ]
     },
     "metadata": {
      "needs_background": "light"
     },
     "output_type": "display_data"
    }
   ],
   "source": [
    "plt.figure(figsize=(10,5))\n",
    "sbn.histplot(data[\"GLO\"])"
   ]
  },
  {
   "cell_type": "code",
   "execution_count": 68,
   "id": "a33f71b0",
   "metadata": {},
   "outputs": [
    {
     "data": {
      "text/plain": [
       "<AxesSubplot:xlabel='GLO', ylabel='Count'>"
      ]
     },
     "execution_count": 68,
     "metadata": {},
     "output_type": "execute_result"
    },
    {
     "data": {
      "image/png": "[encoded data removed]",
      "text/plain": [
       "<Figure size 720x360 with 1 Axes>"
      ]
     },
     "metadata": {
      "needs_background": "light"
     },
     "output_type": "display_data"
    }
   ],
   "source": [
    "data['GLO']=data.loc[data['GLO'] <43, 'GLO']\n",
    "plt.figure(figsize=(10,5))\n",
    "sbn.histplot(data[\"GLO\"])"
   ]
  },
  {
   "cell_type": "code",
   "execution_count": 69,
   "id": "76358ae5",
   "metadata": {},
   "outputs": [
    {
     "data": {
      "text/plain": [
       "<AxesSubplot:xlabel='GLU.', ylabel='Count'>"
      ]
     },
     "execution_count": 69,
     "metadata": {},
     "output_type": "execute_result"
    },
    {
     "data": {
      "image/png": "[encoded data removed]",
      "text/plain": [
       "<Figure size 720x360 with 1 Axes>"
      ]
     },
     "metadata": {
      "needs_background": "light"
     },
     "output_type": "display_data"
    }
   ],
   "source": [
    "plt.figure(figsize=(10,5))\n",
    "sbn.histplot(data[\"GLU.\"])"
   ]
  },
  {
   "cell_type": "code",
   "execution_count": 70,
   "id": "697c51f5",
   "metadata": {},
   "outputs": [
    {
     "data": {
      "text/plain": [
       "<AxesSubplot:xlabel='GLU.', ylabel='Count'>"
      ]
     },
     "execution_count": 70,
     "metadata": {},
     "output_type": "execute_result"
    },
    {
     "data": {
      "image/png": "[encoded data removed]",
      "text/plain": [
       "<Figure size 720x360 with 1 Axes>"
      ]
     },
     "metadata": {
      "needs_background": "light"
     },
     "output_type": "display_data"
    }
   ],
   "source": [
    "data['GLU.']=data.loc[data['GLU.'] <=6.53, 'GLU.']\n",
    "plt.figure(figsize=(10,5))\n",
    "sbn.histplot(data[\"GLU.\"])"
   ]
  },
  {
   "cell_type": "code",
   "execution_count": 71,
   "id": "940437c5",
   "metadata": {},
   "outputs": [
    {
     "data": {
      "text/plain": [
       "<AxesSubplot:xlabel='HCT', ylabel='Count'>"
      ]
     },
     "execution_count": 71,
     "metadata": {},
     "output_type": "execute_result"
    },
    {
     "data": {
      "image/png": "[encoded data removed]",
      "text/plain": [
       "<Figure size 720x360 with 1 Axes>"
      ]
     },
     "metadata": {
      "needs_background": "light"
     },
     "output_type": "display_data"
    }
   ],
   "source": [
    "plt.figure(figsize=(10,5))\n",
    "sbn.histplot(data[\"HCT\"])"
   ]
  },
  {
   "cell_type": "code",
   "execution_count": 72,
   "id": "6f0c68c2",
   "metadata": {},
   "outputs": [],
   "source": [
    "data['HCT']=data.loc[data['HCT'] >0.3, 'HCT']"
   ]
  },
  {
   "cell_type": "code",
   "execution_count": 73,
   "id": "25702d81",
   "metadata": {},
   "outputs": [
    {
     "data": {
      "text/plain": [
       "<AxesSubplot:xlabel='HCT', ylabel='Count'>"
      ]
     },
     "execution_count": 73,
     "metadata": {},
     "output_type": "execute_result"
    },
    {
     "data": {
      "image/png": "[encoded data removed]",
      "text/plain": [
       "<Figure size 720x360 with 1 Axes>"
      ]
     },
     "metadata": {
      "needs_background": "light"
     },
     "output_type": "display_data"
    }
   ],
   "source": [
    "plt.figure(figsize=(10,5))\n",
    "sbn.histplot(data[\"HCT\"])"
   ]
  },
  {
   "cell_type": "code",
   "execution_count": 74,
   "id": "93502ec4",
   "metadata": {},
   "outputs": [],
   "source": [
    "data['HCT']=data.loc[data['HCT'] <0.5, 'HCT']"
   ]
  },
  {
   "cell_type": "code",
   "execution_count": 75,
   "id": "5028bc97",
   "metadata": {},
   "outputs": [
    {
     "data": {
      "text/plain": [
       "<AxesSubplot:xlabel='HCT', ylabel='Count'>"
      ]
     },
     "execution_count": 75,
     "metadata": {},
     "output_type": "execute_result"
    },
    {
     "data": {
      "image/png": "[encoded data removed]",
      "text/plain": [
       "<Figure size 720x360 with 1 Axes>"
      ]
     },
     "metadata": {
      "needs_background": "light"
     },
     "output_type": "display_data"
    }
   ],
   "source": [
    "plt.figure(figsize=(10,5))\n",
    "sbn.histplot(data[\"HCT\"])"
   ]
  },
  {
   "cell_type": "code",
   "execution_count": 76,
   "id": "5a96d813",
   "metadata": {},
   "outputs": [
    {
     "data": {
      "text/plain": [
       "<AxesSubplot:xlabel='HE4', ylabel='Count'>"
      ]
     },
     "execution_count": 76,
     "metadata": {},
     "output_type": "execute_result"
    },
    {
     "data": {
      "image/png": "[encoded data removed]",
      "text/plain": [
       "<Figure size 720x360 with 1 Axes>"
      ]
     },
     "metadata": {
      "needs_background": "light"
     },
     "output_type": "display_data"
    }
   ],
   "source": [
    "plt.figure(figsize=(10,5))\n",
    "sbn.histplot(data[\"HE4\"])"
   ]
  },
  {
   "cell_type": "code",
   "execution_count": 77,
   "id": "a2065b9d",
   "metadata": {},
   "outputs": [],
   "source": [
    "data=data.drop([\"HE4\"], axis=1)"
   ]
  },
  {
   "cell_type": "code",
   "execution_count": 78,
   "id": "fdf97b09",
   "metadata": {},
   "outputs": [
    {
     "data": {
      "text/plain": [
       "<AxesSubplot:xlabel='HGB', ylabel='Count'>"
      ]
     },
     "execution_count": 78,
     "metadata": {},
     "output_type": "execute_result"
    },
    {
     "data": {
      "image/png": "[encoded data removed]",
      "text/plain": [
       "<Figure size 720x360 with 1 Axes>"
      ]
     },
     "metadata": {
      "needs_background": "light"
     },
     "output_type": "display_data"
    }
   ],
   "source": [
    "plt.figure(figsize=(10,5))\n",
    "sbn.histplot(data[\"HGB\"])"
   ]
  },
  {
   "cell_type": "code",
   "execution_count": 79,
   "id": "70760c3b",
   "metadata": {},
   "outputs": [
    {
     "data": {
      "text/plain": [
       "<AxesSubplot:xlabel='IBIL', ylabel='Count'>"
      ]
     },
     "execution_count": 79,
     "metadata": {},
     "output_type": "execute_result"
    },
    {
     "data": {
      "image/png": "[encoded data removed]",
      "text/plain": [
       "<Figure size 720x360 with 1 Axes>"
      ]
     },
     "metadata": {
      "needs_background": "light"
     },
     "output_type": "display_data"
    }
   ],
   "source": [
    "plt.figure(figsize=(10,5))\n",
    "sbn.histplot(data[\"IBIL\"])"
   ]
  },
  {
   "cell_type": "code",
   "execution_count": 80,
   "id": "f11186ff",
   "metadata": {},
   "outputs": [
    {
     "data": {
      "text/plain": [
       "<AxesSubplot:xlabel='IBIL', ylabel='Count'>"
      ]
     },
     "execution_count": 80,
     "metadata": {},
     "output_type": "execute_result"
    },
    {
     "data": {
      "image/png": "[encoded data removed]",
      "text/plain": [
       "<Figure size 720x360 with 1 Axes>"
      ]
     },
     "metadata": {
      "needs_background": "light"
     },
     "output_type": "display_data"
    }
   ],
   "source": [
    "data['IBIL']=data.loc[data['IBIL'] <12, 'IBIL']\n",
    "plt.figure(figsize=(10,5))\n",
    "sbn.histplot(data[\"IBIL\"])"
   ]
  },
  {
   "cell_type": "code",
   "execution_count": 81,
   "id": "47328561",
   "metadata": {},
   "outputs": [
    {
     "data": {
      "text/plain": [
       "<AxesSubplot:xlabel='K', ylabel='Count'>"
      ]
     },
     "execution_count": 81,
     "metadata": {},
     "output_type": "execute_result"
    },
    {
     "data": {
      "image/png": "[encoded data removed]",
      "text/plain": [
       "<Figure size 720x360 with 1 Axes>"
      ]
     },
     "metadata": {
      "needs_background": "light"
     },
     "output_type": "display_data"
    }
   ],
   "source": [
    "plt.figure(figsize=(10,5))\n",
    "sbn.histplot(data[\"K\"])"
   ]
  },
  {
   "cell_type": "code",
   "execution_count": 82,
   "id": "5825b0f2",
   "metadata": {},
   "outputs": [
    {
     "data": {
      "text/plain": [
       "<AxesSubplot:xlabel='LYM#', ylabel='Count'>"
      ]
     },
     "execution_count": 82,
     "metadata": {},
     "output_type": "execute_result"
    },
    {
     "data": {
      "image/png": "[encoded data removed]",
      "text/plain": [
       "<Figure size 720x360 with 1 Axes>"
      ]
     },
     "metadata": {
      "needs_background": "light"
     },
     "output_type": "display_data"
    }
   ],
   "source": [
    "plt.figure(figsize=(10,5))\n",
    "sbn.histplot(data[\"LYM#\"])"
   ]
  },
  {
   "cell_type": "code",
   "execution_count": 83,
   "id": "dca9773a",
   "metadata": {},
   "outputs": [
    {
     "data": {
      "text/plain": [
       "<AxesSubplot:xlabel='LYM%', ylabel='Count'>"
      ]
     },
     "execution_count": 83,
     "metadata": {},
     "output_type": "execute_result"
    },
    {
     "data": {
      "image/png": "[encoded data removed]",
      "text/plain": [
       "<Figure size 720x360 with 1 Axes>"
      ]
     },
     "metadata": {
      "needs_background": "light"
     },
     "output_type": "display_data"
    }
   ],
   "source": [
    "plt.figure(figsize=(10,5))\n",
    "sbn.histplot(data[\"LYM%\"])"
   ]
  },
  {
   "cell_type": "code",
   "execution_count": 84,
   "id": "fd976828",
   "metadata": {},
   "outputs": [
    {
     "data": {
      "text/plain": [
       "<AxesSubplot:xlabel='MCH', ylabel='Count'>"
      ]
     },
     "execution_count": 84,
     "metadata": {},
     "output_type": "execute_result"
    },
    {
     "data": {
      "image/png": "[encoded data removed]",
      "text/plain": [
       "<Figure size 720x360 with 1 Axes>"
      ]
     },
     "metadata": {
      "needs_background": "light"
     },
     "output_type": "display_data"
    }
   ],
   "source": [
    "plt.figure(figsize=(10,5))\n",
    "sbn.histplot(data[\"MCH\"])"
   ]
  },
  {
   "cell_type": "code",
   "execution_count": 85,
   "id": "10addadc",
   "metadata": {},
   "outputs": [
    {
     "data": {
      "text/plain": [
       "<AxesSubplot:xlabel='MCH', ylabel='Count'>"
      ]
     },
     "execution_count": 85,
     "metadata": {},
     "output_type": "execute_result"
    },
    {
     "data": {
      "image/png": "[encoded data removed]",
      "text/plain": [
       "<Figure size 720x360 with 1 Axes>"
      ]
     },
     "metadata": {
      "needs_background": "light"
     },
     "output_type": "display_data"
    }
   ],
   "source": [
    "data['MCH']=data.loc[data['MCH'] >24, 'MCH']\n",
    "plt.figure(figsize=(10,5))\n",
    "sbn.histplot(data[\"MCH\"])"
   ]
  },
  {
   "cell_type": "code",
   "execution_count": 86,
   "id": "baadbba7",
   "metadata": {},
   "outputs": [
    {
     "data": {
      "text/plain": [
       "<AxesSubplot:xlabel='MCH', ylabel='Count'>"
      ]
     },
     "execution_count": 86,
     "metadata": {},
     "output_type": "execute_result"
    },
    {
     "data": {
      "image/png": "[encoded data removed]",
      "text/plain": [
       "<Figure size 720x360 with 1 Axes>"
      ]
     },
     "metadata": {
      "needs_background": "light"
     },
     "output_type": "display_data"
    }
   ],
   "source": [
    "data['MCH']=data.loc[data['MCH'] <34, 'MCH']\n",
    "plt.figure(figsize=(10,5))\n",
    "sbn.histplot(data[\"MCH\"])"
   ]
  },
  {
   "cell_type": "code",
   "execution_count": 87,
   "id": "79385503",
   "metadata": {},
   "outputs": [
    {
     "data": {
      "text/plain": [
       "<AxesSubplot:xlabel='MCV', ylabel='Count'>"
      ]
     },
     "execution_count": 87,
     "metadata": {},
     "output_type": "execute_result"
    },
    {
     "data": {
      "image/png": "[encoded data removed]",
      "text/plain": [
       "<Figure size 720x360 with 1 Axes>"
      ]
     },
     "metadata": {
      "needs_background": "light"
     },
     "output_type": "display_data"
    }
   ],
   "source": [
    "plt.figure(figsize=(10,5))\n",
    "sbn.histplot(data[\"MCV\"])"
   ]
  },
  {
   "cell_type": "code",
   "execution_count": 88,
   "id": "30d81146",
   "metadata": {},
   "outputs": [
    {
     "data": {
      "text/plain": [
       "<AxesSubplot:xlabel='Menopause', ylabel='Count'>"
      ]
     },
     "execution_count": 88,
     "metadata": {},
     "output_type": "execute_result"
    },
    {
     "data": {
      "image/png": "[encoded data removed]",
      "text/plain": [
       "<Figure size 720x360 with 1 Axes>"
      ]
     },
     "metadata": {
      "needs_background": "light"
     },
     "output_type": "display_data"
    }
   ],
   "source": [
    "plt.figure(figsize=(10,5))\n",
    "sbn.histplot(data[\"Menopause\"])"
   ]
  },
  {
   "cell_type": "code",
   "execution_count": 89,
   "id": "daf80a26",
   "metadata": {},
   "outputs": [
    {
     "data": {
      "text/plain": [
       "<AxesSubplot:xlabel='Mg', ylabel='Count'>"
      ]
     },
     "execution_count": 89,
     "metadata": {},
     "output_type": "execute_result"
    },
    {
     "data": {
      "image/png": "[encoded data removed]",
      "text/plain": [
       "<Figure size 720x360 with 1 Axes>"
      ]
     },
     "metadata": {
      "needs_background": "light"
     },
     "output_type": "display_data"
    }
   ],
   "source": [
    "plt.figure(figsize=(10,5))\n",
    "sbn.histplot(data[\"Mg\"])"
   ]
  },
  {
   "cell_type": "code",
   "execution_count": 90,
   "id": "4bd5e707",
   "metadata": {},
   "outputs": [
    {
     "data": {
      "text/plain": [
       "<AxesSubplot:xlabel='MONO#', ylabel='Count'>"
      ]
     },
     "execution_count": 90,
     "metadata": {},
     "output_type": "execute_result"
    },
    {
     "data": {
      "image/png": "[encoded data removed]",
      "text/plain": [
       "<Figure size 720x360 with 1 Axes>"
      ]
     },
     "metadata": {
      "needs_background": "light"
     },
     "output_type": "display_data"
    }
   ],
   "source": [
    "plt.figure(figsize=(10,5))\n",
    "sbn.histplot(data[\"MONO#\"])"
   ]
  },
  {
   "cell_type": "code",
   "execution_count": 91,
   "id": "65e56a44",
   "metadata": {},
   "outputs": [
    {
     "data": {
      "text/plain": [
       "<AxesSubplot:xlabel='MONO#', ylabel='Count'>"
      ]
     },
     "execution_count": 91,
     "metadata": {},
     "output_type": "execute_result"
    },
    {
     "data": {
      "image/png": "[encoded data removed]",
      "text/plain": [
       "<Figure size 720x360 with 1 Axes>"
      ]
     },
     "metadata": {
      "needs_background": "light"
     },
     "output_type": "display_data"
    }
   ],
   "source": [
    "data['MONO#']=data.loc[data['MONO#'] <0.7, 'MONO#']\n",
    "plt.figure(figsize=(10,5))\n",
    "sbn.histplot(data[\"MONO#\"])"
   ]
  },
  {
   "cell_type": "code",
   "execution_count": 92,
   "id": "ee95450d",
   "metadata": {},
   "outputs": [
    {
     "data": {
      "text/plain": [
       "<AxesSubplot:xlabel='MONO%', ylabel='Count'>"
      ]
     },
     "execution_count": 92,
     "metadata": {},
     "output_type": "execute_result"
    },
    {
     "data": {
      "image/png": "[encoded data removed]",
      "text/plain": [
       "<Figure size 720x360 with 1 Axes>"
      ]
     },
     "metadata": {
      "needs_background": "light"
     },
     "output_type": "display_data"
    }
   ],
   "source": [
    "plt.figure(figsize=(10,5))\n",
    "sbn.histplot(data[\"MONO%\"])"
   ]
  },
  {
   "cell_type": "code",
   "execution_count": 93,
   "id": "5e215ad3",
   "metadata": {},
   "outputs": [
    {
     "data": {
      "text/plain": [
       "<AxesSubplot:xlabel='MONO%', ylabel='Count'>"
      ]
     },
     "execution_count": 93,
     "metadata": {},
     "output_type": "execute_result"
    },
    {
     "data": {
      "image/png": "[encoded data removed]",
      "text/plain": [
       "<Figure size 720x360 with 1 Axes>"
      ]
     },
     "metadata": {
      "needs_background": "light"
     },
     "output_type": "display_data"
    }
   ],
   "source": [
    "data['MONO%']=data.loc[data['MONO%'] <11, 'MONO%']\n",
    "plt.figure(figsize=(10,5))\n",
    "sbn.histplot(data[\"MONO%\"])"
   ]
  },
  {
   "cell_type": "code",
   "execution_count": 94,
   "id": "208a9716",
   "metadata": {},
   "outputs": [
    {
     "data": {
      "text/plain": [
       "<AxesSubplot:xlabel='MPV', ylabel='Count'>"
      ]
     },
     "execution_count": 94,
     "metadata": {},
     "output_type": "execute_result"
    },
    {
     "data": {
      "image/png": "[encoded data removed]",
      "text/plain": [
       "<Figure size 720x360 with 1 Axes>"
      ]
     },
     "metadata": {
      "needs_background": "light"
     },
     "output_type": "display_data"
    }
   ],
   "source": [
    "plt.figure(figsize=(10,5))\n",
    "sbn.histplot(data[\"MPV\"])"
   ]
  },
  {
   "cell_type": "code",
   "execution_count": 95,
   "id": "0f8cd5d9",
   "metadata": {},
   "outputs": [
    {
     "data": {
      "text/plain": [
       "<AxesSubplot:xlabel='Na', ylabel='Count'>"
      ]
     },
     "execution_count": 95,
     "metadata": {},
     "output_type": "execute_result"
    },
    {
     "data": {
      "image/png": "[encoded data removed]",
      "text/plain": [
       "<Figure size 720x360 with 1 Axes>"
      ]
     },
     "metadata": {
      "needs_background": "light"
     },
     "output_type": "display_data"
    }
   ],
   "source": [
    "plt.figure(figsize=(10,5))\n",
    "sbn.histplot(data[\"Na\"])"
   ]
  },
  {
   "cell_type": "code",
   "execution_count": 96,
   "id": "101c0551",
   "metadata": {},
   "outputs": [],
   "source": [
    "data['Na']=data.loc[data['Na'] >132, 'Na']"
   ]
  },
  {
   "cell_type": "code",
   "execution_count": 97,
   "id": "211ce835",
   "metadata": {},
   "outputs": [
    {
     "data": {
      "text/plain": [
       "<AxesSubplot:xlabel='Na', ylabel='Count'>"
      ]
     },
     "execution_count": 97,
     "metadata": {},
     "output_type": "execute_result"
    },
    {
     "data": {
      "image/png": "[encoded data removed]",
      "text/plain": [
       "<Figure size 720x360 with 1 Axes>"
      ]
     },
     "metadata": {
      "needs_background": "light"
     },
     "output_type": "display_data"
    }
   ],
   "source": [
    "plt.figure(figsize=(10,5))\n",
    "sbn.histplot(data[\"Na\"])"
   ]
  },
  {
   "cell_type": "code",
   "execution_count": 98,
   "id": "c1e9ceab",
   "metadata": {},
   "outputs": [],
   "source": [
    "data['Na']=data.loc[data['Na'] <148, 'Na']"
   ]
  },
  {
   "cell_type": "code",
   "execution_count": 99,
   "id": "2c6d226d",
   "metadata": {},
   "outputs": [
    {
     "data": {
      "text/plain": [
       "<AxesSubplot:xlabel='Na', ylabel='Count'>"
      ]
     },
     "execution_count": 99,
     "metadata": {},
     "output_type": "execute_result"
    },
    {
     "data": {
      "image/png": "[encoded data removed]",
      "text/plain": [
       "<Figure size 720x360 with 1 Axes>"
      ]
     },
     "metadata": {
      "needs_background": "light"
     },
     "output_type": "display_data"
    }
   ],
   "source": [
    "plt.figure(figsize=(10,5))\n",
    "sbn.histplot(data[\"Na\"])"
   ]
  },
  {
   "cell_type": "code",
   "execution_count": 100,
   "id": "e9bfc0f0",
   "metadata": {},
   "outputs": [
    {
     "data": {
      "text/plain": [
       "<AxesSubplot:xlabel='NEU', ylabel='Count'>"
      ]
     },
     "execution_count": 100,
     "metadata": {},
     "output_type": "execute_result"
    },
    {
     "data": {
      "image/png": "[encoded data removed]",
      "text/plain": [
       "<Figure size 720x360 with 1 Axes>"
      ]
     },
     "metadata": {
      "needs_background": "light"
     },
     "output_type": "display_data"
    }
   ],
   "source": [
    "plt.figure(figsize=(10,5))\n",
    "sbn.histplot(data[\"NEU\"])"
   ]
  },
  {
   "cell_type": "code",
   "execution_count": 101,
   "id": "0185ff3c",
   "metadata": {},
   "outputs": [
    {
     "data": {
      "text/plain": [
       "<AxesSubplot:xlabel='PCT', ylabel='Count'>"
      ]
     },
     "execution_count": 101,
     "metadata": {},
     "output_type": "execute_result"
    },
    {
     "data": {
      "image/png": "[encoded data removed]",
      "text/plain": [
       "<Figure size 720x360 with 1 Axes>"
      ]
     },
     "metadata": {
      "needs_background": "light"
     },
     "output_type": "display_data"
    }
   ],
   "source": [
    "plt.figure(figsize=(10,5))\n",
    "sbn.histplot(data[\"PCT\"])"
   ]
  },
  {
   "cell_type": "code",
   "execution_count": 102,
   "id": "35c9405d",
   "metadata": {},
   "outputs": [
    {
     "data": {
      "text/plain": [
       "<AxesSubplot:xlabel='PCT', ylabel='Count'>"
      ]
     },
     "execution_count": 102,
     "metadata": {},
     "output_type": "execute_result"
    },
    {
     "data": {
      "image/png": "[encoded data removed]",
      "text/plain": [
       "<Figure size 720x360 with 1 Axes>"
      ]
     },
     "metadata": {
      "needs_background": "light"
     },
     "output_type": "display_data"
    }
   ],
   "source": [
    "data['PCT']=data.loc[data['PCT'] <0.5, 'PCT']\n",
    "plt.figure(figsize=(10,5))\n",
    "sbn.histplot(data[\"PCT\"])"
   ]
  },
  {
   "cell_type": "code",
   "execution_count": 103,
   "id": "af8f04c1",
   "metadata": {},
   "outputs": [
    {
     "data": {
      "text/plain": [
       "<AxesSubplot:xlabel='PDW', ylabel='Count'>"
      ]
     },
     "execution_count": 103,
     "metadata": {},
     "output_type": "execute_result"
    },
    {
     "data": {
      "image/png": "[encoded data removed]",
      "text/plain": [
       "<Figure size 720x360 with 1 Axes>"
      ]
     },
     "metadata": {
      "needs_background": "light"
     },
     "output_type": "display_data"
    }
   ],
   "source": [
    "plt.figure(figsize=(10,5))\n",
    "sbn.histplot(data[\"PDW\"])"
   ]
  },
  {
   "cell_type": "code",
   "execution_count": 104,
   "id": "3c3abd8e",
   "metadata": {},
   "outputs": [
    {
     "data": {
      "text/plain": [
       "<AxesSubplot:xlabel='PHOS', ylabel='Count'>"
      ]
     },
     "execution_count": 104,
     "metadata": {},
     "output_type": "execute_result"
    },
    {
     "data": {
      "image/png": "[encoded data removed]",
      "text/plain": [
       "<Figure size 720x360 with 1 Axes>"
      ]
     },
     "metadata": {
      "needs_background": "light"
     },
     "output_type": "display_data"
    }
   ],
   "source": [
    "plt.figure(figsize=(10,5))\n",
    "sbn.histplot(data[\"PHOS\"])"
   ]
  },
  {
   "cell_type": "code",
   "execution_count": 105,
   "id": "5f32f412",
   "metadata": {},
   "outputs": [
    {
     "data": {
      "text/plain": [
       "<AxesSubplot:xlabel='PLT', ylabel='Count'>"
      ]
     },
     "execution_count": 105,
     "metadata": {},
     "output_type": "execute_result"
    },
    {
     "data": {
      "image/png": "[encoded data removed]",
      "text/plain": [
       "<Figure size 720x360 with 1 Axes>"
      ]
     },
     "metadata": {
      "needs_background": "light"
     },
     "output_type": "display_data"
    }
   ],
   "source": [
    "plt.figure(figsize=(10,5))\n",
    "sbn.histplot(data[\"PLT\"])"
   ]
  },
  {
   "cell_type": "code",
   "execution_count": 106,
   "id": "624b95b7",
   "metadata": {},
   "outputs": [
    {
     "data": {
      "text/plain": [
       "<AxesSubplot:xlabel='PLT', ylabel='Count'>"
      ]
     },
     "execution_count": 106,
     "metadata": {},
     "output_type": "execute_result"
    },
    {
     "data": {
      "image/png": "[encoded data removed]",
      "text/plain": [
       "<Figure size 720x360 with 1 Axes>"
      ]
     },
     "metadata": {
      "needs_background": "light"
     },
     "output_type": "display_data"
    }
   ],
   "source": [
    "data['PLT']=data.loc[data['PLT'] <430, 'PLT']\n",
    "plt.figure(figsize=(10,5))\n",
    "sbn.histplot(data[\"PLT\"])"
   ]
  },
  {
   "cell_type": "code",
   "execution_count": 107,
   "id": "29a11ed2",
   "metadata": {},
   "outputs": [
    {
     "data": {
      "text/plain": [
       "<AxesSubplot:xlabel='RBC', ylabel='Count'>"
      ]
     },
     "execution_count": 107,
     "metadata": {},
     "output_type": "execute_result"
    },
    {
     "data": {
      "image/png": "[encoded data removed]",
      "text/plain": [
       "<Figure size 720x360 with 1 Axes>"
      ]
     },
     "metadata": {
      "needs_background": "light"
     },
     "output_type": "display_data"
    }
   ],
   "source": [
    "plt.figure(figsize=(10,5))\n",
    "sbn.histplot(data[\"RBC\"])"
   ]
  },
  {
   "cell_type": "code",
   "execution_count": 108,
   "id": "16e51683",
   "metadata": {},
   "outputs": [
    {
     "data": {
      "text/plain": [
       "<AxesSubplot:xlabel='RDW', ylabel='Count'>"
      ]
     },
     "execution_count": 108,
     "metadata": {},
     "output_type": "execute_result"
    },
    {
     "data": {
      "image/png": "[encoded data removed]",
      "text/plain": [
       "<Figure size 720x360 with 1 Axes>"
      ]
     },
     "metadata": {
      "needs_background": "light"
     },
     "output_type": "display_data"
    }
   ],
   "source": [
    "plt.figure(figsize=(10,5))\n",
    "sbn.histplot(data[\"RDW\"])"
   ]
  },
  {
   "cell_type": "code",
   "execution_count": 109,
   "id": "090d30dc",
   "metadata": {},
   "outputs": [
    {
     "data": {
      "text/plain": [
       "<AxesSubplot:xlabel='RDW', ylabel='Count'>"
      ]
     },
     "execution_count": 109,
     "metadata": {},
     "output_type": "execute_result"
    },
    {
     "data": {
      "image/png": "[encoded data removed]",
      "text/plain": [
       "<Figure size 720x360 with 1 Axes>"
      ]
     },
     "metadata": {
      "needs_background": "light"
     },
     "output_type": "display_data"
    }
   ],
   "source": [
    "data['RDW']=data.loc[data['RDW'] <17, 'RDW']\n",
    "plt.figure(figsize=(10,5))\n",
    "sbn.histplot(data[\"RDW\"])"
   ]
  },
  {
   "cell_type": "code",
   "execution_count": 110,
   "id": "68f7b57a",
   "metadata": {},
   "outputs": [
    {
     "data": {
      "text/plain": [
       "<AxesSubplot:xlabel='TBIL', ylabel='Count'>"
      ]
     },
     "execution_count": 110,
     "metadata": {},
     "output_type": "execute_result"
    },
    {
     "data": {
      "image/png": "[encoded data removed]",
      "text/plain": [
       "<Figure size 720x360 with 1 Axes>"
      ]
     },
     "metadata": {
      "needs_background": "light"
     },
     "output_type": "display_data"
    }
   ],
   "source": [
    "plt.figure(figsize=(10,5))\n",
    "sbn.histplot(data[\"TBIL\"])"
   ]
  },
  {
   "cell_type": "code",
   "execution_count": 111,
   "id": "2845cdd1",
   "metadata": {},
   "outputs": [],
   "source": [
    "data['TBIL']=data.loc[data['TBIL'] <15, 'TBIL']"
   ]
  },
  {
   "cell_type": "code",
   "execution_count": 112,
   "id": "48bf03e2",
   "metadata": {},
   "outputs": [
    {
     "data": {
      "text/plain": [
       "<AxesSubplot:xlabel='TBIL', ylabel='Count'>"
      ]
     },
     "execution_count": 112,
     "metadata": {},
     "output_type": "execute_result"
    },
    {
     "data": {
      "image/png": "[encoded data removed]",
      "text/plain": [
       "<Figure size 720x360 with 1 Axes>"
      ]
     },
     "metadata": {
      "needs_background": "light"
     },
     "output_type": "display_data"
    }
   ],
   "source": [
    "plt.figure(figsize=(10,5))\n",
    "sbn.histplot(data[\"TBIL\"])"
   ]
  },
  {
   "cell_type": "code",
   "execution_count": 113,
   "id": "6bbf86ee",
   "metadata": {},
   "outputs": [
    {
     "data": {
      "text/plain": [
       "<AxesSubplot:xlabel='TP', ylabel='Count'>"
      ]
     },
     "execution_count": 113,
     "metadata": {},
     "output_type": "execute_result"
    },
    {
     "data": {
      "image/png": "[encoded data removed]",
      "text/plain": [
       "<Figure size 720x360 with 1 Axes>"
      ]
     },
     "metadata": {
      "needs_background": "light"
     },
     "output_type": "display_data"
    }
   ],
   "source": [
    "plt.figure(figsize=(10,5))\n",
    "sbn.histplot(data[\"TP\"])"
   ]
  },
  {
   "cell_type": "code",
   "execution_count": 114,
   "id": "1d1195a6",
   "metadata": {},
   "outputs": [],
   "source": [
    "data['TP']=data.loc[data['TP'] >60, 'TP']"
   ]
  },
  {
   "cell_type": "code",
   "execution_count": 115,
   "id": "9262f3cb",
   "metadata": {},
   "outputs": [
    {
     "data": {
      "text/plain": [
       "<AxesSubplot:xlabel='TP', ylabel='Count'>"
      ]
     },
     "execution_count": 115,
     "metadata": {},
     "output_type": "execute_result"
    },
    {
     "data": {
      "image/png": "[encoded data removed]",
      "text/plain": [
       "<Figure size 720x360 with 1 Axes>"
      ]
     },
     "metadata": {
      "needs_background": "light"
     },
     "output_type": "display_data"
    }
   ],
   "source": [
    "plt.figure(figsize=(10,5))\n",
    "sbn.histplot(data[\"TP\"])"
   ]
  },
  {
   "cell_type": "code",
   "execution_count": 116,
   "id": "71547182",
   "metadata": {},
   "outputs": [
    {
     "data": {
      "text/plain": [
       "<AxesSubplot:xlabel='UA', ylabel='Count'>"
      ]
     },
     "execution_count": 116,
     "metadata": {},
     "output_type": "execute_result"
    },
    {
     "data": {
      "image/png": "[encoded data removed]",
      "text/plain": [
       "<Figure size 720x360 with 1 Axes>"
      ]
     },
     "metadata": {
      "needs_background": "light"
     },
     "output_type": "display_data"
    }
   ],
   "source": [
    "plt.figure(figsize=(10,5))\n",
    "sbn.histplot(data[\"UA\"])"
   ]
  },
  {
   "cell_type": "code",
   "execution_count": 117,
   "id": "f9715367",
   "metadata": {},
   "outputs": [],
   "source": [
    "data['UA']=data.loc[data['UA'] <380, 'UA']"
   ]
  },
  {
   "cell_type": "code",
   "execution_count": 118,
   "id": "a12a7bf3",
   "metadata": {},
   "outputs": [
    {
     "data": {
      "text/plain": [
       "<AxesSubplot:xlabel='UA', ylabel='Count'>"
      ]
     },
     "execution_count": 118,
     "metadata": {},
     "output_type": "execute_result"
    },
    {
     "data": {
      "image/png": "[encoded data removed]",
      "text/plain": [
       "<Figure size 720x360 with 1 Axes>"
      ]
     },
     "metadata": {
      "needs_background": "light"
     },
     "output_type": "display_data"
    }
   ],
   "source": [
    "plt.figure(figsize=(10,5))\n",
    "sbn.histplot(data[\"UA\"])"
   ]
  },
  {
   "cell_type": "code",
   "execution_count": 119,
   "id": "2bd6f493",
   "metadata": {},
   "outputs": [],
   "source": [
    "data[\"AFP\"].fillna(data[\"AFP\"].sum()/data[\"AFP\"].count(), inplace=True)"
   ]
  },
  {
   "cell_type": "code",
   "execution_count": 120,
   "id": "a6a58661",
   "metadata": {},
   "outputs": [],
   "source": [
    "data[\"ALT\"].fillna(data[\"ALT\"].sum()/data[\"ALT\"].count(), inplace=True)"
   ]
  },
  {
   "cell_type": "code",
   "execution_count": 121,
   "id": "fd68f36e",
   "metadata": {},
   "outputs": [],
   "source": [
    "data[\"AG\"].fillna(data[\"AG\"].sum()/data[\"AG\"].count(), inplace=True)"
   ]
  },
  {
   "cell_type": "code",
   "execution_count": 122,
   "id": "374e2a0e",
   "metadata": {},
   "outputs": [],
   "source": [
    "data[\"ALB\"].fillna(data[\"ALB\"].sum()/data[\"ALB\"].count(), inplace=True)"
   ]
  },
  {
   "cell_type": "code",
   "execution_count": 123,
   "id": "9cde83c5",
   "metadata": {},
   "outputs": [],
   "source": [
    "data[\"AST\"].fillna(data[\"AST\"].sum()/data[\"AST\"].count(), inplace=True)"
   ]
  },
  {
   "cell_type": "code",
   "execution_count": 124,
   "id": "0e8969b6",
   "metadata": {},
   "outputs": [],
   "source": [
    "data[\"ALP\"].fillna(data[\"ALP\"].sum()/data[\"ALP\"].count(), inplace=True)"
   ]
  },
  {
   "cell_type": "code",
   "execution_count": 125,
   "id": "9d6d108b",
   "metadata": {},
   "outputs": [],
   "source": [
    "data[\"CA125\"].fillna(data[\"CA125\"].sum()/data[\"CA125\"].count(), inplace=True)"
   ]
  },
  {
   "cell_type": "code",
   "execution_count": 126,
   "id": "1c7d0883",
   "metadata": {},
   "outputs": [],
   "source": [
    "data[\"CEA\"].fillna(data[\"CEA\"].sum()/data[\"CEA\"].count(), inplace=True)"
   ]
  },
  {
   "cell_type": "code",
   "execution_count": 127,
   "id": "29060321",
   "metadata": {},
   "outputs": [],
   "source": [
    "data[\"CO2CP\"].fillna(data[\"CO2CP\"].sum()/data[\"CO2CP\"].count(), inplace=True)"
   ]
  },
  {
   "cell_type": "code",
   "execution_count": 128,
   "id": "ab68999e",
   "metadata": {},
   "outputs": [],
   "source": [
    "data[\"DBIL\"].fillna(data[\"DBIL\"].sum()/data[\"DBIL\"].count(), inplace=True)"
   ]
  },
  {
   "cell_type": "code",
   "execution_count": 129,
   "id": "96c30854",
   "metadata": {},
   "outputs": [],
   "source": [
    "data[\"GGT\"].fillna(data[\"GGT\"].sum()/data[\"GGT\"].count(), inplace=True)"
   ]
  },
  {
   "cell_type": "code",
   "execution_count": 130,
   "id": "afdc0768",
   "metadata": {},
   "outputs": [],
   "source": [
    "data[\"GLO\"].fillna(data[\"GLO\"].sum()/data[\"GLO\"].count(), inplace=True)"
   ]
  },
  {
   "cell_type": "code",
   "execution_count": 131,
   "id": "0048b500",
   "metadata": {},
   "outputs": [],
   "source": [
    "data[\"IBIL\"].fillna(data[\"IBIL\"].sum()/data[\"IBIL\"].count(), inplace=True)"
   ]
  },
  {
   "cell_type": "code",
   "execution_count": 132,
   "id": "3c61d416",
   "metadata": {},
   "outputs": [],
   "source": [
    "data[\"MPV\"].fillna(data[\"MPV\"].sum()/data[\"MPV\"].count(), inplace=True)"
   ]
  },
  {
   "cell_type": "code",
   "execution_count": 133,
   "id": "0b6df35c",
   "metadata": {},
   "outputs": [],
   "source": [
    "data[\"NEU\"].fillna(data[\"NEU\"].sum()/data[\"NEU\"].count(), inplace=True)"
   ]
  },
  {
   "cell_type": "code",
   "execution_count": 134,
   "id": "5a1d8b65",
   "metadata": {},
   "outputs": [],
   "source": [
    "data[\"PCT\"].fillna(data[\"NEU\"].sum()/data[\"NEU\"].count(), inplace=True)"
   ]
  },
  {
   "cell_type": "code",
   "execution_count": 135,
   "id": "fabef135",
   "metadata": {},
   "outputs": [],
   "source": [
    "data[\"PDW\"].fillna(data[\"PDW\"].sum()/data[\"PDW\"].count(), inplace=True)"
   ]
  },
  {
   "cell_type": "code",
   "execution_count": 136,
   "id": "8fdf8118",
   "metadata": {},
   "outputs": [],
   "source": [
    "data[\"TBIL\"].fillna(data[\"TBIL\"].sum()/data[\"TBIL\"].count(), inplace=True)"
   ]
  },
  {
   "cell_type": "code",
   "execution_count": 137,
   "id": "985e2ab4",
   "metadata": {},
   "outputs": [],
   "source": [
    "data[\"TP\"].fillna(data[\"TP\"].sum()/data[\"TP\"].count(), inplace=True)"
   ]
  },
  {
   "cell_type": "code",
   "execution_count": 138,
   "id": "e88aed66",
   "metadata": {},
   "outputs": [],
   "source": [
    "data[\"UA\"].fillna(data[\"UA\"].sum()/data[\"UA\"].count(), inplace=True)"
   ]
  },
  {
   "cell_type": "code",
   "execution_count": 139,
   "id": "ec7e55da",
   "metadata": {},
   "outputs": [],
   "source": [
    "data[\"RDW\"].fillna(data[\"RDW\"].sum()/data[\"RDW\"].count(), inplace=True)"
   ]
  },
  {
   "cell_type": "code",
   "execution_count": 140,
   "id": "c755642b",
   "metadata": {},
   "outputs": [],
   "source": [
    "data[\"PLT\"].fillna(data[\"PLT\"].sum()/data[\"PLT\"].count(), inplace=True)"
   ]
  },
  {
   "cell_type": "code",
   "execution_count": 141,
   "id": "349e0e18",
   "metadata": {},
   "outputs": [],
   "source": [
    "data[\"Na\"].fillna(data[\"Na\"].sum()/data[\"Na\"].count(), inplace=True)"
   ]
  },
  {
   "cell_type": "code",
   "execution_count": 142,
   "id": "7c8710a1",
   "metadata": {},
   "outputs": [],
   "source": [
    "data[\"MONO%\"].fillna(data[\"MONO%\"].sum()/data[\"MONO%\"].count(), inplace=True)"
   ]
  },
  {
   "cell_type": "code",
   "execution_count": 143,
   "id": "ceacd48c",
   "metadata": {},
   "outputs": [],
   "source": [
    "data[\"MONO#\"].fillna(data[\"MONO#\"].sum()/data[\"MONO#\"].count(), inplace=True)"
   ]
  },
  {
   "cell_type": "code",
   "execution_count": 144,
   "id": "ffaba407",
   "metadata": {},
   "outputs": [],
   "source": [
    "data[\"MCH\"].fillna(data[\"MCH\"].sum()/data[\"MCH\"].count(), inplace=True)"
   ]
  },
  {
   "cell_type": "code",
   "execution_count": 145,
   "id": "c04d82d4",
   "metadata": {},
   "outputs": [],
   "source": [
    "data[\"HCT\"].fillna(data[\"HCT\"].sum()/data[\"HCT\"].count(), inplace=True)"
   ]
  },
  {
   "cell_type": "code",
   "execution_count": 146,
   "id": "b8ee45a3",
   "metadata": {},
   "outputs": [],
   "source": [
    "data[\"GLU.\"].fillna(data[\"GLU.\"].sum()/data[\"GLU.\"].count(), inplace=True)"
   ]
  },
  {
   "cell_type": "code",
   "execution_count": 147,
   "id": "319b25ac",
   "metadata": {},
   "outputs": [],
   "source": [
    "data[\"CREA\"].fillna(data[\"CREA\"].sum()/data[\"CREA\"].count(), inplace=True)"
   ]
  },
  {
   "cell_type": "code",
   "execution_count": 148,
   "id": "ae4f5373",
   "metadata": {},
   "outputs": [],
   "source": [
    "data[\"CL\"].fillna(data[\"CL\"].sum()/data[\"CL\"].count(), inplace=True)"
   ]
  },
  {
   "cell_type": "code",
   "execution_count": 149,
   "id": "036a64f6",
   "metadata": {},
   "outputs": [],
   "source": [
    "data[\"Ca\"].fillna(data[\"Ca\"].sum()/data[\"Ca\"].count(), inplace=True)"
   ]
  },
  {
   "cell_type": "code",
   "execution_count": 150,
   "id": "6d12a2e5",
   "metadata": {},
   "outputs": [],
   "source": [
    "data[\"BUN\"].fillna(data[\"BUN\"].sum()/data[\"BUN\"].count(), inplace=True)"
   ]
  },
  {
   "cell_type": "code",
   "execution_count": 151,
   "id": "a55240c0",
   "metadata": {},
   "outputs": [],
   "source": [
    "data[\"BUN\"].fillna(data[\"BUN\"].sum()/data[\"BUN\"].count(), inplace=True)"
   ]
  },
  {
   "cell_type": "code",
   "execution_count": 152,
   "id": "921e0a89",
   "metadata": {},
   "outputs": [],
   "source": [
    "data[\"BASO#\"].fillna(data[\"BASO#\"].sum()/data[\"BASO#\"].count(), inplace=True)"
   ]
  },
  {
   "cell_type": "code",
   "execution_count": 153,
   "id": "ea8596ce",
   "metadata": {},
   "outputs": [
    {
     "data": {
      "text/plain": [
       "AFP          0.0\n",
       "AG           0.0\n",
       "Age          0.0\n",
       "ALB          0.0\n",
       "ALP          0.0\n",
       "ALT          0.0\n",
       "AST          0.0\n",
       "BASO#        0.0\n",
       "BASO%        0.0\n",
       "BUN          0.0\n",
       "Ca           0.0\n",
       "CA125        0.0\n",
       "CEA          0.0\n",
       "CL           0.0\n",
       "CO2CP        0.0\n",
       "CREA         0.0\n",
       "TYPE         0.0\n",
       "DBIL         0.0\n",
       "GGT          0.0\n",
       "GLO          0.0\n",
       "GLU.         0.0\n",
       "HCT          0.0\n",
       "HGB          0.0\n",
       "IBIL         0.0\n",
       "K            0.0\n",
       "LYM#         0.0\n",
       "LYM%         0.0\n",
       "MCH          0.0\n",
       "MCV          0.0\n",
       "Menopause    0.0\n",
       "Mg           0.0\n",
       "MONO#        0.0\n",
       "MONO%        0.0\n",
       "MPV          0.0\n",
       "Na           0.0\n",
       "NEU          0.0\n",
       "PCT          0.0\n",
       "PDW          0.0\n",
       "PHOS         0.0\n",
       "PLT          0.0\n",
       "RBC          0.0\n",
       "RDW          0.0\n",
       "TBIL         0.0\n",
       "TP           0.0\n",
       "UA           0.0\n",
       "dtype: float64"
      ]
     },
     "execution_count": 153,
     "metadata": {},
     "output_type": "execute_result"
    }
   ],
   "source": [
    "data.isna().sum() / data.shape[0]*100"
   ]
  },
  {
   "cell_type": "markdown",
   "id": "4da59e86",
   "metadata": {},
   "source": [
    "## boş değerleri doldurdup bakmak için yeni exel dosyası oluşturdum"
   ]
  },
  {
   "cell_type": "code",
   "execution_count": 154,
   "id": "9046021d",
   "metadata": {},
   "outputs": [],
   "source": [
    "data.to_excel(\"bos degerler doldurulmus.xlsx\")"
   ]
  },
  {
   "cell_type": "code",
   "execution_count": 155,
   "id": "9c315418",
   "metadata": {},
   "outputs": [],
   "source": [
    "y=data[\"TYPE\"].values"
   ]
  },
  {
   "cell_type": "code",
   "execution_count": 156,
   "id": "ae4730d8",
   "metadata": {},
   "outputs": [],
   "source": [
    "x=data.drop(\"TYPE\", axis=1).values"
   ]
  },
  {
   "cell_type": "code",
   "execution_count": 157,
   "id": "72d97c37",
   "metadata": {},
   "outputs": [],
   "source": [
    "x_train,x_test,y_train,y_test= train_test_split(x,y,test_size=0.3,random_state=30)"
   ]
  },
  {
   "cell_type": "code",
   "execution_count": 158,
   "id": "3bd5b107",
   "metadata": {},
   "outputs": [],
   "source": [
    "scaler=MinMaxScaler()"
   ]
  },
  {
   "cell_type": "code",
   "execution_count": 159,
   "id": "feb904b4",
   "metadata": {},
   "outputs": [],
   "source": [
    "x_train= scaler.fit_transform(x_train)"
   ]
  },
  {
   "cell_type": "code",
   "execution_count": 160,
   "id": "504bf403",
   "metadata": {},
   "outputs": [],
   "source": [
    "x_test= scaler.fit_transform(x_test)"
   ]
  },
  {
   "cell_type": "code",
   "execution_count": 161,
   "id": "8aaa4252",
   "metadata": {},
   "outputs": [
    {
     "data": {
      "text/plain": [
       "(349, 45)"
      ]
     },
     "execution_count": 161,
     "metadata": {},
     "output_type": "execute_result"
    }
   ],
   "source": [
    "data.shape"
   ]
  },
  {
   "cell_type": "code",
   "execution_count": 162,
   "id": "edc2450f",
   "metadata": {},
   "outputs": [
    {
     "name": "stderr",
     "output_type": "stream",
     "text": [
      "2022-07-26 10:33:58.555133: W tensorflow/stream_executor/platform/default/dso_loader.cc:64] Could not load dynamic library 'libcuda.so.1'; dlerror: libcuda.so.1: cannot open shared object file: No such file or directory\n",
      "2022-07-26 10:33:58.555174: W tensorflow/stream_executor/cuda/cuda_driver.cc:269] failed call to cuInit: UNKNOWN ERROR (303)\n",
      "2022-07-26 10:33:58.555205: I tensorflow/stream_executor/cuda/cuda_diagnostics.cc:156] kernel driver does not appear to be running on this host (mert-Aspire-E1-572G): /proc/driver/nvidia/version does not exist\n",
      "2022-07-26 10:33:58.555861: I tensorflow/core/platform/cpu_feature_guard.cc:193] This TensorFlow binary is optimized with oneAPI Deep Neural Network Library (oneDNN) to use the following CPU instructions in performance-critical operations:  AVX2 FMA\n",
      "To enable them in other operations, rebuild TensorFlow with the appropriate compiler flags.\n"
     ]
    }
   ],
   "source": [
    "model= Sequential()\n",
    "\n",
    "model.add(Dense(24,activation=\"relu\"))\n",
    "model.add(Dropout(0.3))\n",
    "model.add(Dense(24,activation=\"relu\"))\n",
    "model.add(Dropout(0.3))\n",
    "model.add(Dense(24,activation=\"relu\"))\n",
    "model.add(Dropout(0.3))\n",
    "model.add(Dense(24,activation=\"relu\"))\n",
    "model.add(Dropout(0.3))\n",
    "model.add(Dense(24,activation=\"relu\"))\n",
    "model.add(Dropout(0.3))\n",
    "model.add(Dense(24,activation=\"relu\"))\n",
    " \n",
    "model.add(Dense(1, activation=\"sigmoid\"))\n",
    "\n",
    "model.compile(loss=\"binary_crossentropy\",optimizer=\"adam\", metrics=\"accuracy\")"
   ]
  },
  {
   "cell_type": "code",
   "execution_count": 163,
   "id": "708c7573",
   "metadata": {},
   "outputs": [],
   "source": [
    "earlyStopping= EarlyStopping(monitor=\"val_loss\", mode=\"min\", verbose=1, patience=25)"
   ]
  },
  {
   "cell_type": "code",
   "execution_count": 164,
   "id": "f672a2a1",
   "metadata": {},
   "outputs": [
    {
     "name": "stdout",
     "output_type": "stream",
     "text": [
      "Epoch 1/80\n",
      "8/8 [==============================] - 1s 30ms/step - loss: 0.6914 - accuracy: 0.5205 - val_loss: 0.6944 - val_accuracy: 0.4190\n",
      "Epoch 2/80\n",
      "8/8 [==============================] - 0s 8ms/step - loss: 0.6830 - accuracy: 0.5410 - val_loss: 0.6973 - val_accuracy: 0.4190\n",
      "Epoch 3/80\n",
      "8/8 [==============================] - 0s 6ms/step - loss: 0.6827 - accuracy: 0.5574 - val_loss: 0.7029 - val_accuracy: 0.4190\n",
      "Epoch 4/80\n",
      "8/8 [==============================] - 0s 7ms/step - loss: 0.6833 - accuracy: 0.5246 - val_loss: 0.7062 - val_accuracy: 0.4190\n",
      "Epoch 5/80\n",
      "8/8 [==============================] - 0s 9ms/step - loss: 0.6848 - accuracy: 0.5656 - val_loss: 0.7065 - val_accuracy: 0.4190\n",
      "Epoch 6/80\n",
      "8/8 [==============================] - 0s 6ms/step - loss: 0.6771 - accuracy: 0.5451 - val_loss: 0.7045 - val_accuracy: 0.4190\n",
      "Epoch 7/80\n",
      "8/8 [==============================] - 0s 6ms/step - loss: 0.6872 - accuracy: 0.5328 - val_loss: 0.7009 - val_accuracy: 0.4190\n",
      "Epoch 8/80\n",
      "8/8 [==============================] - 0s 8ms/step - loss: 0.6910 - accuracy: 0.5574 - val_loss: 0.6960 - val_accuracy: 0.4190\n",
      "Epoch 9/80\n",
      "8/8 [==============================] - 0s 7ms/step - loss: 0.6684 - accuracy: 0.5533 - val_loss: 0.6937 - val_accuracy: 0.4190\n",
      "Epoch 10/80\n",
      "8/8 [==============================] - 0s 8ms/step - loss: 0.6602 - accuracy: 0.5492 - val_loss: 0.6956 - val_accuracy: 0.4190\n",
      "Epoch 11/80\n",
      "8/8 [==============================] - 0s 8ms/step - loss: 0.6630 - accuracy: 0.5820 - val_loss: 0.6969 - val_accuracy: 0.4286\n",
      "Epoch 12/80\n",
      "8/8 [==============================] - 0s 9ms/step - loss: 0.6584 - accuracy: 0.5861 - val_loss: 0.6878 - val_accuracy: 0.4952\n",
      "Epoch 13/80\n",
      "8/8 [==============================] - 0s 7ms/step - loss: 0.6678 - accuracy: 0.5779 - val_loss: 0.6721 - val_accuracy: 0.6190\n",
      "Epoch 14/80\n",
      "8/8 [==============================] - 0s 8ms/step - loss: 0.6483 - accuracy: 0.5902 - val_loss: 0.6638 - val_accuracy: 0.6762\n",
      "Epoch 15/80\n",
      "8/8 [==============================] - 0s 9ms/step - loss: 0.6356 - accuracy: 0.6557 - val_loss: 0.6702 - val_accuracy: 0.6476\n",
      "Epoch 16/80\n",
      "8/8 [==============================] - 0s 9ms/step - loss: 0.6565 - accuracy: 0.6475 - val_loss: 0.6641 - val_accuracy: 0.6667\n",
      "Epoch 17/80\n",
      "8/8 [==============================] - 0s 9ms/step - loss: 0.6398 - accuracy: 0.6598 - val_loss: 0.6437 - val_accuracy: 0.7333\n",
      "Epoch 18/80\n",
      "8/8 [==============================] - 0s 7ms/step - loss: 0.6122 - accuracy: 0.6926 - val_loss: 0.6353 - val_accuracy: 0.7238\n",
      "Epoch 19/80\n",
      "8/8 [==============================] - 0s 7ms/step - loss: 0.6021 - accuracy: 0.7131 - val_loss: 0.6373 - val_accuracy: 0.7238\n",
      "Epoch 20/80\n",
      "8/8 [==============================] - 0s 8ms/step - loss: 0.6496 - accuracy: 0.6762 - val_loss: 0.6295 - val_accuracy: 0.7333\n",
      "Epoch 21/80\n",
      "8/8 [==============================] - 0s 8ms/step - loss: 0.6221 - accuracy: 0.6967 - val_loss: 0.6230 - val_accuracy: 0.7429\n",
      "Epoch 22/80\n",
      "8/8 [==============================] - 0s 8ms/step - loss: 0.6031 - accuracy: 0.6967 - val_loss: 0.6075 - val_accuracy: 0.7524\n",
      "Epoch 23/80\n",
      "8/8 [==============================] - 0s 6ms/step - loss: 0.6004 - accuracy: 0.7254 - val_loss: 0.6113 - val_accuracy: 0.7429\n",
      "Epoch 24/80\n",
      "8/8 [==============================] - 0s 8ms/step - loss: 0.5952 - accuracy: 0.7254 - val_loss: 0.6119 - val_accuracy: 0.7429\n",
      "Epoch 25/80\n",
      "8/8 [==============================] - 0s 6ms/step - loss: 0.5798 - accuracy: 0.7254 - val_loss: 0.5789 - val_accuracy: 0.7619\n",
      "Epoch 26/80\n",
      "8/8 [==============================] - 0s 6ms/step - loss: 0.5878 - accuracy: 0.7049 - val_loss: 0.5813 - val_accuracy: 0.7619\n",
      "Epoch 27/80\n",
      "8/8 [==============================] - 0s 7ms/step - loss: 0.5513 - accuracy: 0.7582 - val_loss: 0.6061 - val_accuracy: 0.6857\n",
      "Epoch 28/80\n",
      "8/8 [==============================] - 0s 7ms/step - loss: 0.5520 - accuracy: 0.7500 - val_loss: 0.5865 - val_accuracy: 0.6952\n",
      "Epoch 29/80\n",
      "8/8 [==============================] - 0s 8ms/step - loss: 0.5499 - accuracy: 0.7705 - val_loss: 0.5261 - val_accuracy: 0.7714\n",
      "Epoch 30/80\n",
      "8/8 [==============================] - 0s 9ms/step - loss: 0.5775 - accuracy: 0.7336 - val_loss: 0.5376 - val_accuracy: 0.7524\n",
      "Epoch 31/80\n",
      "8/8 [==============================] - 0s 8ms/step - loss: 0.5289 - accuracy: 0.7787 - val_loss: 0.5721 - val_accuracy: 0.6952\n",
      "Epoch 32/80\n",
      "8/8 [==============================] - 0s 8ms/step - loss: 0.5349 - accuracy: 0.7705 - val_loss: 0.5576 - val_accuracy: 0.7048\n",
      "Epoch 33/80\n",
      "8/8 [==============================] - 0s 6ms/step - loss: 0.5333 - accuracy: 0.7623 - val_loss: 0.5196 - val_accuracy: 0.7619\n",
      "Epoch 34/80\n",
      "8/8 [==============================] - 0s 7ms/step - loss: 0.5011 - accuracy: 0.7951 - val_loss: 0.5628 - val_accuracy: 0.6952\n",
      "Epoch 35/80\n",
      "8/8 [==============================] - 0s 8ms/step - loss: 0.4841 - accuracy: 0.8033 - val_loss: 0.5929 - val_accuracy: 0.6857\n",
      "Epoch 36/80\n",
      "8/8 [==============================] - 0s 7ms/step - loss: 0.4551 - accuracy: 0.8115 - val_loss: 0.5866 - val_accuracy: 0.6857\n",
      "Epoch 37/80\n",
      "8/8 [==============================] - 0s 8ms/step - loss: 0.5031 - accuracy: 0.8074 - val_loss: 0.5342 - val_accuracy: 0.7333\n",
      "Epoch 38/80\n",
      "8/8 [==============================] - 0s 8ms/step - loss: 0.4767 - accuracy: 0.7951 - val_loss: 0.5303 - val_accuracy: 0.7333\n",
      "Epoch 39/80\n",
      "8/8 [==============================] - 0s 9ms/step - loss: 0.4676 - accuracy: 0.7992 - val_loss: 0.6133 - val_accuracy: 0.6571\n",
      "Epoch 40/80\n",
      "8/8 [==============================] - 0s 7ms/step - loss: 0.4846 - accuracy: 0.7951 - val_loss: 0.5344 - val_accuracy: 0.7143\n",
      "Epoch 41/80\n",
      "8/8 [==============================] - 0s 8ms/step - loss: 0.4277 - accuracy: 0.8320 - val_loss: 0.5590 - val_accuracy: 0.7048\n",
      "Epoch 42/80\n",
      "8/8 [==============================] - 0s 10ms/step - loss: 0.4901 - accuracy: 0.8033 - val_loss: 0.6246 - val_accuracy: 0.6571\n",
      "Epoch 43/80\n",
      "8/8 [==============================] - 0s 8ms/step - loss: 0.4659 - accuracy: 0.8115 - val_loss: 0.5799 - val_accuracy: 0.6857\n",
      "Epoch 44/80\n",
      "8/8 [==============================] - 0s 8ms/step - loss: 0.4455 - accuracy: 0.8197 - val_loss: 0.5151 - val_accuracy: 0.7429\n",
      "Epoch 45/80\n",
      "8/8 [==============================] - 0s 7ms/step - loss: 0.4802 - accuracy: 0.7951 - val_loss: 0.5057 - val_accuracy: 0.7619\n",
      "Epoch 46/80\n",
      "8/8 [==============================] - 0s 7ms/step - loss: 0.4666 - accuracy: 0.8197 - val_loss: 0.5701 - val_accuracy: 0.6952\n",
      "Epoch 47/80\n",
      "8/8 [==============================] - 0s 9ms/step - loss: 0.4142 - accuracy: 0.8279 - val_loss: 0.5537 - val_accuracy: 0.7143\n",
      "Epoch 48/80\n",
      "8/8 [==============================] - 0s 8ms/step - loss: 0.4451 - accuracy: 0.8238 - val_loss: 0.5071 - val_accuracy: 0.7619\n",
      "Epoch 49/80\n",
      "8/8 [==============================] - 0s 8ms/step - loss: 0.4390 - accuracy: 0.8115 - val_loss: 0.5220 - val_accuracy: 0.7619\n",
      "Epoch 50/80\n",
      "8/8 [==============================] - 0s 7ms/step - loss: 0.4009 - accuracy: 0.8320 - val_loss: 0.5673 - val_accuracy: 0.7238\n",
      "Epoch 51/80\n",
      "8/8 [==============================] - 0s 7ms/step - loss: 0.4817 - accuracy: 0.8074 - val_loss: 0.5213 - val_accuracy: 0.7714\n",
      "Epoch 52/80\n",
      "8/8 [==============================] - 0s 11ms/step - loss: 0.4549 - accuracy: 0.8074 - val_loss: 0.5893 - val_accuracy: 0.7048\n",
      "Epoch 53/80\n",
      "8/8 [==============================] - 0s 8ms/step - loss: 0.4076 - accuracy: 0.8402 - val_loss: 0.5919 - val_accuracy: 0.6857\n",
      "Epoch 54/80\n",
      "8/8 [==============================] - 0s 9ms/step - loss: 0.3715 - accuracy: 0.8484 - val_loss: 0.5868 - val_accuracy: 0.6952\n",
      "Epoch 55/80\n",
      "8/8 [==============================] - 0s 7ms/step - loss: 0.4400 - accuracy: 0.8238 - val_loss: 0.5719 - val_accuracy: 0.6952\n",
      "Epoch 56/80\n",
      "8/8 [==============================] - 0s 6ms/step - loss: 0.3700 - accuracy: 0.8361 - val_loss: 0.5701 - val_accuracy: 0.7143\n",
      "Epoch 57/80\n",
      "8/8 [==============================] - 0s 6ms/step - loss: 0.4043 - accuracy: 0.8607 - val_loss: 0.5691 - val_accuracy: 0.7143\n",
      "Epoch 58/80\n",
      "8/8 [==============================] - 0s 7ms/step - loss: 0.4392 - accuracy: 0.8525 - val_loss: 0.5205 - val_accuracy: 0.7714\n",
      "Epoch 59/80\n",
      "8/8 [==============================] - 0s 6ms/step - loss: 0.3765 - accuracy: 0.8525 - val_loss: 0.5516 - val_accuracy: 0.7143\n"
     ]
    },
    {
     "name": "stdout",
     "output_type": "stream",
     "text": [
      "Epoch 60/80\n",
      "8/8 [==============================] - 0s 6ms/step - loss: 0.4671 - accuracy: 0.8156 - val_loss: 0.5624 - val_accuracy: 0.7048\n",
      "Epoch 61/80\n",
      "8/8 [==============================] - 0s 7ms/step - loss: 0.4160 - accuracy: 0.8525 - val_loss: 0.5642 - val_accuracy: 0.7048\n",
      "Epoch 62/80\n",
      "8/8 [==============================] - 0s 6ms/step - loss: 0.3838 - accuracy: 0.8566 - val_loss: 0.5459 - val_accuracy: 0.7333\n",
      "Epoch 63/80\n",
      "8/8 [==============================] - 0s 7ms/step - loss: 0.4017 - accuracy: 0.8320 - val_loss: 0.5720 - val_accuracy: 0.7238\n",
      "Epoch 64/80\n",
      "8/8 [==============================] - 0s 6ms/step - loss: 0.4143 - accuracy: 0.8443 - val_loss: 0.6459 - val_accuracy: 0.6762\n",
      "Epoch 65/80\n",
      "8/8 [==============================] - 0s 7ms/step - loss: 0.3997 - accuracy: 0.8238 - val_loss: 0.6397 - val_accuracy: 0.6857\n",
      "Epoch 66/80\n",
      "8/8 [==============================] - 0s 6ms/step - loss: 0.3606 - accuracy: 0.8607 - val_loss: 0.5538 - val_accuracy: 0.7143\n",
      "Epoch 67/80\n",
      "8/8 [==============================] - 0s 6ms/step - loss: 0.4328 - accuracy: 0.8279 - val_loss: 0.4932 - val_accuracy: 0.7810\n",
      "Epoch 68/80\n",
      "8/8 [==============================] - 0s 8ms/step - loss: 0.3757 - accuracy: 0.8361 - val_loss: 0.6139 - val_accuracy: 0.6762\n",
      "Epoch 69/80\n",
      "8/8 [==============================] - 0s 9ms/step - loss: 0.3889 - accuracy: 0.8320 - val_loss: 0.6379 - val_accuracy: 0.6667\n",
      "Epoch 70/80\n",
      "8/8 [==============================] - 0s 7ms/step - loss: 0.3961 - accuracy: 0.8607 - val_loss: 0.5751 - val_accuracy: 0.7238\n",
      "Epoch 71/80\n",
      "8/8 [==============================] - 0s 7ms/step - loss: 0.3609 - accuracy: 0.8648 - val_loss: 0.5753 - val_accuracy: 0.7238\n",
      "Epoch 72/80\n",
      "8/8 [==============================] - 0s 6ms/step - loss: 0.3974 - accuracy: 0.8607 - val_loss: 0.5549 - val_accuracy: 0.7333\n",
      "Epoch 73/80\n",
      "8/8 [==============================] - 0s 6ms/step - loss: 0.3688 - accuracy: 0.8648 - val_loss: 0.6232 - val_accuracy: 0.6857\n",
      "Epoch 74/80\n",
      "8/8 [==============================] - 0s 7ms/step - loss: 0.3958 - accuracy: 0.8279 - val_loss: 0.6425 - val_accuracy: 0.6571\n",
      "Epoch 75/80\n",
      "8/8 [==============================] - 0s 6ms/step - loss: 0.3627 - accuracy: 0.8443 - val_loss: 0.5610 - val_accuracy: 0.7524\n",
      "Epoch 76/80\n",
      "8/8 [==============================] - 0s 6ms/step - loss: 0.3614 - accuracy: 0.8443 - val_loss: 0.5844 - val_accuracy: 0.7333\n",
      "Epoch 77/80\n",
      "8/8 [==============================] - 0s 6ms/step - loss: 0.4028 - accuracy: 0.8607 - val_loss: 0.6421 - val_accuracy: 0.6762\n",
      "Epoch 78/80\n",
      "8/8 [==============================] - 0s 8ms/step - loss: 0.3483 - accuracy: 0.8730 - val_loss: 0.5088 - val_accuracy: 0.7810\n",
      "Epoch 79/80\n",
      "8/8 [==============================] - 0s 7ms/step - loss: 0.3478 - accuracy: 0.8566 - val_loss: 0.6437 - val_accuracy: 0.7048\n",
      "Epoch 80/80\n",
      "8/8 [==============================] - 0s 7ms/step - loss: 0.4000 - accuracy: 0.8525 - val_loss: 0.5878 - val_accuracy: 0.7619\n"
     ]
    },
    {
     "data": {
      "text/plain": [
       "<keras.callbacks.History at 0x7fce6816dac0>"
      ]
     },
     "execution_count": 164,
     "metadata": {},
     "output_type": "execute_result"
    }
   ],
   "source": [
    "model.fit(x=x_train, y=y_train, epochs=80, validation_data=(x_test,y_test), verbose=1, callbacks=[earlyStopping])"
   ]
  },
  {
   "cell_type": "code",
   "execution_count": 165,
   "id": "65fc727e",
   "metadata": {},
   "outputs": [],
   "source": [
    "kayipVerisi=pd.DataFrame(model.history.history)"
   ]
  },
  {
   "cell_type": "code",
   "execution_count": 166,
   "id": "a98e90cd",
   "metadata": {},
   "outputs": [
    {
     "data": {
      "text/html": [
       "<div>\n",
       "<style scoped>\n",
       "    .dataframe tbody tr th:only-of-type {\n",
       "        vertical-align: middle;\n",
       "    }\n",
       "\n",
       "    .dataframe tbody tr th {\n",
       "        vertical-align: top;\n",
       "    }\n",
       "\n",
       "    .dataframe thead th {\n",
       "        text-align: right;\n",
       "    }\n",
       "</style>\n",
       "<table border=\"1\" class=\"dataframe\">\n",
       "  <thead>\n",
       "    <tr style=\"text-align: right;\">\n",
       "      <th></th>\n",
       "      <th>loss</th>\n",
       "      <th>accuracy</th>\n",
       "      <th>val_loss</th>\n",
       "      <th>val_accuracy</th>\n",
       "    </tr>\n",
       "  </thead>\n",
       "  <tbody>\n",
       "    <tr>\n",
       "      <th>0</th>\n",
       "      <td>0.691389</td>\n",
       "      <td>0.520492</td>\n",
       "      <td>0.694432</td>\n",
       "      <td>0.419048</td>\n",
       "    </tr>\n",
       "    <tr>\n",
       "      <th>1</th>\n",
       "      <td>0.682991</td>\n",
       "      <td>0.540984</td>\n",
       "      <td>0.697270</td>\n",
       "      <td>0.419048</td>\n",
       "    </tr>\n",
       "    <tr>\n",
       "      <th>2</th>\n",
       "      <td>0.682749</td>\n",
       "      <td>0.557377</td>\n",
       "      <td>0.702890</td>\n",
       "      <td>0.419048</td>\n",
       "    </tr>\n",
       "    <tr>\n",
       "      <th>3</th>\n",
       "      <td>0.683300</td>\n",
       "      <td>0.524590</td>\n",
       "      <td>0.706210</td>\n",
       "      <td>0.419048</td>\n",
       "    </tr>\n",
       "    <tr>\n",
       "      <th>4</th>\n",
       "      <td>0.684780</td>\n",
       "      <td>0.565574</td>\n",
       "      <td>0.706534</td>\n",
       "      <td>0.419048</td>\n",
       "    </tr>\n",
       "  </tbody>\n",
       "</table>\n",
       "</div>"
      ],
      "text/plain": [
       "       loss  accuracy  val_loss  val_accuracy\n",
       "0  0.691389  0.520492  0.694432      0.419048\n",
       "1  0.682991  0.540984  0.697270      0.419048\n",
       "2  0.682749  0.557377  0.702890      0.419048\n",
       "3  0.683300  0.524590  0.706210      0.419048\n",
       "4  0.684780  0.565574  0.706534      0.419048"
      ]
     },
     "execution_count": 166,
     "metadata": {},
     "output_type": "execute_result"
    }
   ],
   "source": [
    "kayipVerisi.head()"
   ]
  },
  {
   "cell_type": "code",
   "execution_count": 167,
   "id": "bdba191f",
   "metadata": {},
   "outputs": [
    {
     "data": {
      "text/plain": [
       "<AxesSubplot:>"
      ]
     },
     "execution_count": 167,
     "metadata": {},
     "output_type": "execute_result"
    },
    {
     "data": {
      "image/png": "[encoded data removed]",
      "text/plain": [
       "<Figure size 432x288 with 1 Axes>"
      ]
     },
     "metadata": {
      "needs_background": "light"
     },
     "output_type": "display_data"
    }
   ],
   "source": [
    "kayipVerisi.plot()"
   ]
  },
  {
   "cell_type": "code",
   "execution_count": 168,
   "id": "237d609b",
   "metadata": {},
   "outputs": [],
   "source": [
    "knn = KNeighborsClassifier(n_neighbors=2, metric=\"minkowski\")"
   ]
  },
  {
   "cell_type": "code",
   "execution_count": 169,
   "id": "82d6c057",
   "metadata": {},
   "outputs": [
    {
     "data": {
      "text/plain": [
       "KNeighborsClassifier(n_neighbors=2)"
      ]
     },
     "execution_count": 169,
     "metadata": {},
     "output_type": "execute_result"
    }
   ],
   "source": [
    "knn.fit(x_train,y_train)"
   ]
  },
  {
   "cell_type": "code",
   "execution_count": 170,
   "id": "8fbe9bec",
   "metadata": {},
   "outputs": [],
   "source": [
    "y_pred= knn.predict(x_test)"
   ]
  },
  {
   "cell_type": "code",
   "execution_count": 171,
   "id": "eb37dcaa",
   "metadata": {},
   "outputs": [],
   "source": [
    "cm=confusion_matrix(y_test,y_pred)"
   ]
  },
  {
   "cell_type": "code",
   "execution_count": 172,
   "id": "3ed942b7",
   "metadata": {},
   "outputs": [
    {
     "data": {
      "text/plain": [
       "0.6666666666666666"
      ]
     },
     "execution_count": 172,
     "metadata": {},
     "output_type": "execute_result"
    }
   ],
   "source": [
    "accuracy_score(y_test, y_pred)"
   ]
  },
  {
   "cell_type": "code",
   "execution_count": 173,
   "id": "32b08d49",
   "metadata": {},
   "outputs": [
    {
     "name": "stdout",
     "output_type": "stream",
     "text": [
      "[[42 19]\n",
      " [16 28]]\n"
     ]
    }
   ],
   "source": [
    "print(cm)"
   ]
  },
  {
   "cell_type": "code",
   "execution_count": null,
   "id": "9aa5b05a",
   "metadata": {},
   "outputs": [],
   "source": []
  }
 ],
 "metadata": {
  "kernelspec": {
   "display_name": "Python 3 (ipykernel)",
   "language": "python",
   "name": "python3"
  },
  "language_info": {
   "codemirror_mode": {
    "name": "ipython",
    "version": 3
   },
   "file_extension": ".py",
   "mimetype": "text/x-python",
   "name": "python",
   "nbconvert_exporter": "python",
   "pygments_lexer": "ipython3",
   "version": "3.9.7"
  }
 },
 "nbformat": 4,
 "nbformat_minor": 5
}
